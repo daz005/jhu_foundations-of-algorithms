{
  "nbformat": 4,
  "nbformat_minor": 0,
  "metadata": {
    "kernelspec": {
      "display_name": "Python 3",
      "language": "python",
      "name": "python3"
    },
    "language_info": {
      "codemirror_mode": {
        "name": "ipython",
        "version": 3
      },
      "file_extension": ".py",
      "mimetype": "text/x-python",
      "name": "python",
      "nbconvert_exporter": "python",
      "pygments_lexer": "ipython3",
      "version": "3.7.6"
    },
    "colab": {
      "provenance": [],
      "collapsed_sections": [
        "xBhwSTUr5zyq"
      ],
      "toc_visible": true
    }
  },
  "cells": [
    {
      "cell_type": "markdown",
      "metadata": {
        "id": "baXbq8ixZnpT"
      },
      "source": [
        "**PUT YOUR NAME HERE**, Algorithms 605.621\n",
        "\n",
        "Copyright Johns Hopkins University.  Not for distribution online or by any other means.\n",
        "\n",
        "# Statement of Academic Integrity\n",
        "\n",
        "**Put a personal statement of academic integrity here.  Failure to do so will result in a deduction of points.**"
      ]
    },
    {
      "cell_type": "markdown",
      "metadata": {
        "id": "kn8fltFSpZqf"
      },
      "source": [
        "# Instructions to Students\n",
        "This programming assignment is contained entirely in this IPython/Jupyter notebook. You are to read the problem from this notebook, and answer questions/make required modifications in this same notebook and submit it as a notebook.  Look for **BOLDFACE AND/OR ALL CAPS** for where to put answers to written questions.  Do not delete the problem statements, text, etc, leave all that as-is (makes grading easier)."
      ]
    },
    {
      "cell_type": "markdown",
      "metadata": {
        "id": "LtQLBRzJZnpU"
      },
      "source": [
        "# Overview\n",
        "\n",
        "Implement two algorithms to return the closest pair of points in a Euclidean two-dimensional plane.  The first algorithm shall be a brute-force approach, with improvements, that runs no worse than $\\theta(n^2)$ time, and the second algorithm will be a recursive divide-and-conquer method that runs in $O(n\\log(n))$ time.  You'll kick the tires on both of these and analyze runtime performance and improvements.\n",
        "\n",
        "## Tasks\n",
        "Specifically, you must:\n",
        "\n",
        "1. Write the algorithms, in correct pseudocode notation.  [This part may have been assigned on a previous or concurrent homework assignment.]\n",
        "1. Implement both algorithms correctly, in this notebook.\n",
        "1. Compare/contrast algorithm performance via graphs.  In this one case, the performance is related to the number of calls to the distance method.\n",
        "1. Discuss your experiences and opportunities to improve.\n",
        "\n",
        "## Requirements\n",
        "On the first algorithm, you must implement a brute-force method with *at least one improvement* over a very simple method.  The baseline is \"for i in all points, for j in all points, call the distance function, yada yada\" and you shall improve on that in at least one *asymptotically similar* way by cutting down the number of calls to the distance function.  More on that in the section down below.\n",
        "\n",
        "On the second algorithm, you must implement it as the CLRS book describes in section 33.4 (and as you have fleshed out in the full realization of this algorithm; CLRS provides only a sketch).\n",
        "\n",
        "You will plot a curve that shows the improvement of the second approach over the first.\n",
        "\n",
        "## Constraints\n",
        "\n",
        "The implementation is not collaborative.  While writing the algorithm may be a collaborative effort as indicated in one of the homework assignments, you must write your own code following the Programming Assignment Guidelines (Blackboard page Syllabus & Course Information ).  Pay careful attention to the academic integrity requirements regarding publicly available code.\n",
        "\n",
        "Use the function signatures and any data structures as supplied$-$do not change function signatures or introduce strange calling conventions; the instructor's tests are written assuming these function signatures.  Further, beware of strange *side effects* that may cause bad behavior on subsequent runs of the code.  Be sure to \"restart and run all\" prior to submitting your notebook, as the instructor will do the same when testing.  Points will be deducted if the instructor has to make any changes in order to run your code.\n",
        "\n",
        "The analysis and graphs must be driven with programmatically derived data, not \"hard coded\" or pasted in run counts.  An example of what **not** to do: xvals=[3, 4, 12, 15, 36, 47] /* hard coded */  Instead, xvals = [i for i in mycounts] where mycounts is an array updated through various trials you perform using your function(s).\n",
        "\n",
        "As for notebook runtimes, the notebook must never exceed an execution time of FIVE WALL-CLOCK MINUTES.  If your notebook does not execute on a cloud service, such as Google Colaboratory, on the supplied instructor inputs within this time, points will be deducted.  It likely means there's a bug in your implementation.  If you have issues with this, reach out to your instructor."
      ]
    },
    {
      "cell_type": "markdown",
      "metadata": {
        "id": "AWWXlpzDZnpc"
      },
      "source": [
        "# Closest Pairs (100 pts total)\n",
        "\n"
      ]
    },
    {
      "cell_type": "markdown",
      "source": [
        "## Preliminaries\n",
        "\n",
        "Implement your algorithm in the Student Implementation block(s) and code to print your results. Your code must have a reasonable, consistent, style and commented documentation. It must have appropriate data structures and modularity.\n",
        "\n",
        "Your code must appear in this notebook (not as an external library).  You may create additional notebook cells as necessary.  If present, preserve the instructor input block, and do not change names of any of the instructor supplied variables or data structures - they will be used by the instructor when testing your code. Output must be clear and nicely formatted.\n",
        "\n",
        "Your code should be robust and have some error checking - we won't deliberately test for unusual/nonsense conditions, but our tests will include different data than supplied here so you want to be prepared for a variety of (well-formed) input conditions.  \n",
        "\n",
        "If present, the instructor test block will be used to test your code; if the test block runs correctly, then your code has the correct function signature, and performs well when running multiple trials.  (The instructor may change or add to the test cases during grading.)"
      ],
      "metadata": {
        "id": "2DCJXR8XsEWV"
      }
    },
    {
      "cell_type": "markdown",
      "metadata": {
        "id": "xBhwSTUr5zyq"
      },
      "source": [
        "## Instructor Data Structures and Helpers\n",
        "\n",
        "These are data structures that will be used throughout your implementation.  Although strongly cautioned against this, you can make modifications, but if present, ensure that the instructor test block functions correctly without modifications."
      ]
    },
    {
      "cell_type": "code",
      "metadata": {
        "id": "1y8pHzTrZnpf"
      },
      "source": [
        "############################################################################\n",
        "# INSTRUCTOR DATA STRUCTURES\n",
        "# If you change these, don't break the instructor test block.\n",
        "############################################################################\n",
        "# Decorator example for counting function calls, adapted from\n",
        "# https://stackoverflow.com/a/21717396/8542716\n",
        "def call_counter(f):\n",
        "    \"\"\"\n",
        "    Adds a \".calls\" variable to the function that increments w/every call.\n",
        "    Set it to zero between iterations.\n",
        "    Example:\n",
        "        @call_counter\n",
        "        def sumallbelow(x):\n",
        "          if x<1:\n",
        "            return 0\n",
        "          return x + sumallbelow(x-1)\n",
        "\n",
        "        ...\n",
        "        sumallbelow.calls = 0 # reset before any use\n",
        "        print(f\"The sum up to 4 is: {sumallbelow(4)}\")\n",
        "        print(f\"and the call counts are {sumallbelow.calls}\")\n",
        "\n",
        "    \"\"\"\n",
        "    def wrapped(*args, **kwargs): # deal with any/all arguments\n",
        "        wrapped.calls += 1\n",
        "        return f(*args, **kwargs) # call the real function here\n",
        "    wrapped.calls = 0\n",
        "    return wrapped\n",
        "\n",
        "class debugprint(object):\n",
        "  \"\"\"\n",
        "  A debug print decorator useful for tracing the flow of recursive functions.\n",
        "  It adds a \"debugprint\" method to each function call, that increases the\n",
        "  number of spaces on each call before printing the output.\n",
        "\n",
        "  To use, add @debugprint on top of your function.  Then, within your function\n",
        "  foo, put foo.debugprint(\"whatever\"), and it will print \"whatever\" with\n",
        "  several spaces in front of it.  Recursive calls add to the spaces.  Enable\n",
        "  with \"debugprint.enabled = True\", and disable w/False.\n",
        "\n",
        "  There's also a counter called \".calls,\" which you reset like the counter\n",
        "  decorator above.  Note, enabling/disabling does not affect the counter; the\n",
        "  counter is always counting.\n",
        "\n",
        "  Example:\n",
        "      @debugprint\n",
        "      def fib(N):\n",
        "        fib.debugprint(f\"inside fib({N})\")\n",
        "        if N<2:\n",
        "          fib.debugprint(f\"returning {N}\")\n",
        "          return N\n",
        "        fib.debugprint(f\"returning fib({N-1}) + fib({N-2})\")\n",
        "        return fib(N-1) + fib(N-2)\n",
        "\n",
        "      # toggle this on/off as needed\n",
        "      fib.enabled, fib.calls = True, 0\n",
        "      print(f\"The 3rd Fibonacci number is {fib(3)}\")\n",
        "      print(f\"Number of calls is {fib.calls}\")\n",
        "\n",
        "  Output:\n",
        "      inside fib(3)\n",
        "      returning fib(2) + fib(1)\n",
        "        inside fib(2)\n",
        "        returning fib(1) + fib(0)\n",
        "          inside fib(1)\n",
        "          returning 1\n",
        "          inside fib(0)\n",
        "          returning 0\n",
        "        inside fib(1)\n",
        "        returning 1\n",
        "      The 3rd Fibonacci number is 2\n",
        "      Number of calls is 5\n",
        "\n",
        "  Adapted from https://stackoverflow.com/a/862915/\n",
        "  Also adding a calls counter because I cannot combine decorators\n",
        "  \"\"\"\n",
        "  calls = 0\n",
        "  enabled = False\n",
        "  space = \"\"\n",
        "  def __init__(self, func):\n",
        "    self.func = func\n",
        "  def __call__(self, *args, **kwargs):\n",
        "    if self.enabled:\n",
        "      # print 'Entering', self.func.func_name\n",
        "      # print '    args:', args, kwargs\n",
        "      pass\n",
        "    self.space += \"  \"\n",
        "    self.calls += 1\n",
        "    result = self.func(*args, **kwargs)\n",
        "    self.space = self.space[:-2]\n",
        "    return result\n",
        "  def debugprint(self, *args, **kwargs):\n",
        "    if self.enabled:\n",
        "      print(self.space+\" \".join(map(str,args)), **kwargs)\n",
        "\n",
        "class Point(object):\n",
        "    \"\"\"\n",
        "    Data structure for points.  Methods include P.x, P.y and other Pythonisms\n",
        "    necessary to use with sets, tuples, etc.\n",
        "    \"\"\"\n",
        "    def __init__(self, x, y):\n",
        "        self.x = x\n",
        "        self.y = y\n",
        "    def __repr__(self):\n",
        "        return f\"Point({self.x},{self.y})\"\n",
        "    def __eq__(self, other): # need both eq and hash if you want to use sets\n",
        "        return self.x == other.x and self.y == other.y\n",
        "    def __hash__(self):\n",
        "        return hash((self.x, self.y))\n",
        "    def __iter__(self): # required to convert to tuple\n",
        "        for i in [self.x, self.y]:\n",
        "          yield i"
      ],
      "execution_count": null,
      "outputs": []
    },
    {
      "cell_type": "markdown",
      "metadata": {
        "id": "H8y5LZ9XZnpf"
      },
      "source": [
        "## Brute Force Improved (45 pts)\n",
        "Write code to print the closest pair of points, and their distance using the distance function.  Use a brute force technique, but with at least one asymptotically similar improvement that will speed up the operation.  \n",
        "\n",
        "Return the number of calls to the distance function for each input data set.  Print out the closest pair of points, and their distance, and the number of calls to the distance function.\n",
        "\n",
        "You must fix up the implementation of the distance function, which is currently incorrect.  Your brute force must call out to it, and return the counts of the number of times the distance function was called.\n",
        "\n",
        "An *asymptotically similar* speedup is one that results in fewer calls to the dist function, but does not change the overall $n^2$ running time behavior.  Think of it as a quick fix.  It may change $\\theta$ to $O$, and may change the constant $c$ in the definition $\\theta(n) = c\\cdot f(n)$, but it will not take the function to $n\\log(n)$ or anything.  That's the point of the second implementation.  We need you to try at least one quick fix speedup.\n",
        "\n",
        "There is a ``Point'' class data structure to use.  The inputs to both this and the CLRS function are Python arrays of Points.  Read the output block for the format and how to use the Points class.\n",
        "\n",
        "\n",
        "\n",
        "\n"
      ]
    },
    {
      "cell_type": "markdown",
      "metadata": {
        "id": "Cl-NJW99542N"
      },
      "source": [
        "### Brute Force Improved Implementation"
      ]
    },
    {
      "cell_type": "code",
      "metadata": {
        "id": "xYEZEBwOZnpg"
      },
      "source": [
        "############################################################################\n",
        "# STUDENT IMPLEMENTATION BLOCK - Brute Force Improved\n",
        "############################################################################\n",
        "# Student Euclidean Distance Function\n",
        "@call_counter  # adds calls attribute to functions\n",
        "def dist(p1, p2):\n",
        "    \"\"\"\n",
        "    PUT A COMMENT UP HERE.\n",
        "\n",
        "    p1, p2 are Points\n",
        "    \"\"\"\n",
        "    # stub implementation - you have to change - just here to demo return vals\n",
        "    d = p1.x - p2.y # clearly incorrect - you fix it\n",
        "    return d\n",
        "\n",
        "# Implementation of Student Closest Points algorithm\n",
        "def closestPairBrute(points):  # Preserve the function name and arguments\n",
        "    \"\"\"\n",
        "    This is the Brute Force Improved n^2 implementation.\n",
        "    I WILL REPLACE THESE COMMENTS\n",
        "    by something that discusses inputs, outputs, and behaviors.\n",
        "\n",
        "    points is an array of Points\n",
        "    \"\"\"\n",
        "    # I WILL WRITE MY CODE HERE\n",
        "    # I MAY USE OTHER CELLS, functions, but beware that they must be in order -\n",
        "    # \"Restart and Run All\" before submission to make sure you didn't put\n",
        "    # some function you need down below this block.\n",
        "\n",
        "    mypoint1, mypoint2 = points[0], points[1]\n",
        "    dist.calls=0\n",
        "    mydist = dist(mypoint1, mypoint2)\n",
        "\n",
        "    # Remember to track the calls to dist\n",
        "\n",
        "    # Return the closest 2 points, the Euclidean distance between them,\n",
        "    # and calls to the distance function.\n",
        "    return mypoint1, mypoint2, mydist, dist.calls\n"
      ],
      "execution_count": null,
      "outputs": []
    },
    {
      "cell_type": "markdown",
      "metadata": {
        "id": "2GsdcuYdZnpg"
      },
      "source": [
        "### Brute Force Improved Output"
      ]
    },
    {
      "cell_type": "code",
      "metadata": {
        "id": "pYZXp1qVZnpg"
      },
      "source": [
        "############################################################################\n",
        "# STUDENT OUTPUT BLOCK\n",
        "############################################################################\n",
        "# This block should run your function and produce output that matches the input\n",
        "# and output.\n",
        "\n",
        "POINTS=[Point(1,2), \\\n",
        "        Point(4,3), \\\n",
        "        Point(9,8), \\\n",
        "        Point(9,2), \\\n",
        "        Point(8,2), \\\n",
        "        Point(4,5)]\n",
        "dist.calls = 0 # reset before every run\n",
        "p1, p2, d, c = closestPairBrute(POINTS)\n",
        "print(f\"Closest pair of points are {p1} and {p2}, distance = {d:.2f}\")\n",
        "print(f\"Call counts on dist = {c}\")"
      ],
      "execution_count": null,
      "outputs": []
    },
    {
      "cell_type": "markdown",
      "source": [
        "## CLRS Algorithm (15 pts)\n",
        "\n",
        "Implement the closest pair of points described in the CLRS textbook, 3rd ed, in section 33.4.  Input and output will be as with the brute force method, but your implementation will run in $n\\log(n)$ time.\n",
        "\n",
        "For this problem, you will need to create additional functions, including at least one recursive function.  The function shown below, ``closestPairCLRS``, will act as a front-end, or \"kickoff\" function to the recursive function.  The kickoff function will perform preliminary setup and organization of input data as explained in CLRS, then it will call out to a recursive function (named whatever you like) that you will write, using your own function signature, to solve the problem efficiently.  \n",
        "\n",
        "**Note on Sorting:** on this assignment and related assignments, we are **not** asking you to implement a sorting algorithm.  If you need a sorting function, use the Python built-in sort methods.  **Do not spend your time implementing MergeSort** or some other sorting algorithm.  Because we are not asking you to implement sorting, sorting is therefore not *central to the assignment.*"
      ],
      "metadata": {
        "id": "wpqv5vE1xtcW"
      }
    },
    {
      "cell_type": "markdown",
      "source": [
        "### CLRS Implementation"
      ],
      "metadata": {
        "id": "pdpttGFmzjdI"
      }
    },
    {
      "cell_type": "code",
      "source": [
        "# STUDENT RECURSIVE FUNCTION GOES HERE\n"
      ],
      "metadata": {
        "id": "kGinINFuleLj"
      },
      "execution_count": null,
      "outputs": []
    },
    {
      "cell_type": "code",
      "source": [
        "############################################################################\n",
        "# STUDENT IMPLEMENTATION BLOCK - CLRS\n",
        "############################################################################\n",
        "# Implementation of Student Closest Points algorithm\n",
        "def closestPairCLRS(points):  # Preserve the function name and arguments\n",
        "    \"\"\"\n",
        "    This is the kickoff function to the recursive function explained in CLRS.\n",
        "    I WILL REPLACE THESE COMMENTS by something that discusses inputs, outputs,\n",
        "    and behaviors.\n",
        "    \"\"\"\n",
        "    # I WILL WRITE MY CODE HERE\n",
        "    # I MAY USE OTHER CELLS, functions, but beware that they must be in order -\n",
        "    # \"Restart and Run All\" before submission to make sure you didn't put\n",
        "    # some function you need down below this block.\n",
        "\n",
        "    mypoint1, mypoint2 = points[0], points[1]\n",
        "    dist.calls=0\n",
        "    mydist = dist(mypoint1, mypoint2)\n",
        "\n",
        "    # Remember to track the calls to dist\n",
        "\n",
        "    # Return the closest 2 points, the Euclidean distance between them,\n",
        "    # and calls to the distance function.\n",
        "    return mypoint1, mypoint2, mydist, dist.calls"
      ],
      "metadata": {
        "id": "BmVjjwGqzkp5"
      },
      "execution_count": null,
      "outputs": []
    },
    {
      "cell_type": "markdown",
      "source": [
        "### CLRS Output"
      ],
      "metadata": {
        "id": "HcKYyvy0zlcB"
      }
    },
    {
      "cell_type": "code",
      "source": [
        "############################################################################\n",
        "# STUDENT OUTPUT BLOCK\n",
        "############################################################################\n",
        "# This block should run your function and produce output that matches the input\n",
        "# and output.\n",
        "\n",
        "POINTS=[Point(1,2), \\\n",
        "        Point(4,3), \\\n",
        "        Point(9,8), \\\n",
        "        Point(9,2), \\\n",
        "        Point(8,2), \\\n",
        "        Point(4,4)]\n",
        "dist.calls = 0 # reset before every run\n",
        "p1, p2, d, c = closestPairCLRS(POINTS)\n",
        "print(f\"Closest pair of points are {p1} and {p2}, distance = {d:.2f}\")\n",
        "print(f\"Call counts on dist = {c}\")\n",
        "dist.calls = 0\n",
        "p1, p2, d, c = closestPairBrute(POINTS)\n",
        "print(f\"Compare to Brute which says {p1}, {p2}, {d} and {c} calls.\")"
      ],
      "metadata": {
        "id": "7COvgrHdzlzL"
      },
      "execution_count": null,
      "outputs": []
    },
    {
      "cell_type": "markdown",
      "source": [
        "## Instructor Test Block\n",
        "The instructor will run a test block very similar to this to evaluate the correctness of your implementation. This block is a subset of the full suite of tests.  *Your implementation must pass these supplied tests (at the minimum)*.\n",
        "\n",
        "Consider this test block a preview.  During grading, the instructor will replace the contents of the block including inputs and code (so don't put anything critical in here - it will get erased during grading), but the tests will function similarly.\n",
        "\n",
        "You are permitted to change this block, and I encourage you to add your own test cases!  Just make sure it passes the supplied cases and you'll do fine."
      ],
      "metadata": {
        "id": "9_mSbe2RFKDV"
      }
    },
    {
      "cell_type": "code",
      "source": [
        "# INSTRUCTOR TEST BLOCK\n",
        "from math import log2\n",
        "asPoints = lambda A: [Point(a,b) for a,b in A]\n",
        "\n",
        "def myassert(case, cond):\n",
        "    if not cond:\n",
        "        print(f\"FAILED CASE, case={case}\")\n",
        "\n",
        "def myTest(func, inp, ans, cnt=0):\n",
        "  \"\"\"\n",
        "  case is array of points,\n",
        "  ans is tuple of ((p1, p2), dist),\n",
        "  cnt is max expected calls\n",
        "  \"\"\"\n",
        "  myTest.count += 1\n",
        "  if True: # try:\n",
        "      dist.calls=0\n",
        "      tup = func([p for p in asPoints(inp)]) # p1, p2, dist, calls\n",
        "      p1, p2, d, dc = tup\n",
        "      print(f\"case {myTest.count:<2d} gives {p1}, {p2} dist {d:0.2f} in {dc} calls (max = {cnt:0.2f})\", end=' ')\n",
        "  else: # except Exception as e:\n",
        "      print(\" \")\n",
        "      print(\"======== EXCEPTION ======== EXCEPTION ======== EXCEPTION\")\n",
        "      print(\"========\",e)\n",
        "  passed = True\n",
        "  apts=asPoints(ans[1:])\n",
        "  adst=ans[0]\n",
        "  a1, a2 = apts\n",
        "  passed &= set([p1,p2])==set([a1, a2])  # order not matters\n",
        "  passed &= abs(adst-d) < 0.00001\n",
        "  passed &= (not cnt or dc<=cnt)   # cnt implies we expect no more than count\n",
        "  if passed:\n",
        "    print(\" ... passed\")\n",
        "    myTest.passed += 1\n",
        "  else:\n",
        "    print(\" !!! failed !!!\")\n",
        "    print(f\"FAILED CASE {myTest.count:02d}\")\n",
        "    xtup=(d, (p1.x, p1.y), (p2.x, p2.y))\n",
        "    print(f\"   expected {adst}, {a1}, {a2}, got {xtup} and {dc} calls\")\n",
        "\n",
        "closestPairBrute.ncalls = lambda n: n*(n-1)/2  # you can just add variables to funcs\n",
        "closestPairCLRS.ncalls = lambda n: n*log2(n)*1.5\n",
        "for func in [closestPairBrute, closestPairCLRS]:\n",
        "  print(f\"TESTING CASE {func.__name__} ----\")\n",
        "  myTest.count = 0\n",
        "  myTest.passed = 0\n",
        "\n",
        "  # Tests\n",
        "  POINTS=[(1,1), (2,1)]\n",
        "  ans=(1.0, (1,1), (2,1))\n",
        "  myTest(func, POINTS, ans, func.ncalls(len(POINTS))) # last arg is max number of calls\n",
        "\n",
        "  POINTS = [(1,0), (15,19), (10,13), (1,18), (18,4)]\n",
        "  ans = (7.810249675906654, (15, 19), (10, 13))\n",
        "  myTest(func, POINTS, ans, func.ncalls(len(POINTS)))\n",
        "\n",
        "  POINTS = [(20,13), (17,4), (16,9), (0,4), (8,0), (14,20), (3,9), (4,17)]\n",
        "  ans = (5.0990195135927845, (17,4), (16,9))\n",
        "  myTest(func, POINTS, ans, func.ncalls(len(POINTS)))\n",
        "\n",
        "  POINTS= [(2, 10), (19, 1), (10, 2), (14, 18)]\n",
        "  ans=(9.055385138137417, (19, 1), (10, 2))\n",
        "  myTest(func, POINTS, ans, func.ncalls(len(POINTS)))\n",
        "\n",
        "  POINTS= [(3, 19), (4, 13), (0, 5), (18, 8), (7, 5), (12, 8), (10, 17), (19, 17), (13, 4)]\n",
        "  ans=(4.123105625617661, (12, 8), (13, 4)) # CLRS calls = 13\n",
        "  myTest(func, POINTS, ans, func.ncalls(len(POINTS)))\n",
        "\n",
        "  print(f\"---- PASSED {myTest.passed} of {myTest.count} cases\")"
      ],
      "metadata": {
        "id": "ZiYfaj4bFg5-"
      },
      "execution_count": null,
      "outputs": []
    },
    {
      "cell_type": "markdown",
      "metadata": {
        "id": "QHl7XoYVZnph"
      },
      "source": [
        "## Analysis (30 pts)\n",
        "Perform tests to compare the asymptotic behavior of the Brute Force Improved method to the CLRS method.\n",
        "\n",
        "<font color='red'>Note, if you did not attempt, or were not able to get the CLRS method working reliably, plot the performance of the Brute Force Improved.</font>\n",
        "\n",
        "As with every programming assignment this semester, *running time* implies execution steps, not clock time, versus size of the input data.  Use the counts of the ``dist()`` function as collected above, and plot over various trial cases using the graph below.  (You may use this graph code for future assignments, or you can put in your own, as long as it is reasonable.)\n",
        "\n",
        "Think: what goes on the x axis?  What goes on the y axis?  How do you modify your code above to exercise the different inputs?  Label the axes, use the right data, make this look *professional.*  Also, pay attention to the asymptotic bounds.  Compare simple to improved on the same graph.\n",
        "\n",
        "***Then, write a description below the figure of what is happening.***\n",
        "\n",
        "Please note, graphs must tell a story.  The better your graph is, the more descriptive, (appropriate scale to \"zoom in\" on the required features), the better the story it tells.  Use colors, points, symbols, a good key, good labels, make this look professional.  If you are comparing two alternatives, find a way to overlay their runs on a single graph.  Really, really try to sell me graphically on your improvements.\n",
        "\n",
        "Things to consider:\n",
        "* How many points do you plot?  Notice there are too many red x's.\n",
        "* Which bounding functions do you include?  Not all of them.  Can you \"bring them in a little\" to make them tighter to your function?\n",
        "\n",
        "You may reuse this plot style on future assignments, or augment it as you wish.  Tell us a good story!  **Don't forget the writeup.**\n",
        "\n"
      ]
    },
    {
      "cell_type": "markdown",
      "source": [
        "### Data Collection\n",
        "Run repeated tests over input sizes N to collect data for your plot.  Then, modify the code in the Plot section to display these run counts."
      ],
      "metadata": {
        "id": "iE9GQTpxe_Du"
      }
    },
    {
      "cell_type": "code",
      "source": [
        "# STUDENT DATA COLLECTION CELL\n",
        "#\n",
        "# FILL THIS OUT WITH CODE TO RUN YOUR FUNCTIONS OVER MULTIPLE SIZES OF INPUTS.\n",
        "# YOU MAY REUSE CODE FROM ABOVE, INCLUDING ANY SUPPLIED INSTRUCTOR CODE, TO\n",
        "# GENERATE THE CASES.\n",
        "#\n",
        "# AS WITH ANY CODE YOU WRITE, USE GOOD COMMENTS.\n",
        "\n",
        "# WRITE EXPERIMENT CODE HERE, THEN\n",
        "# SET THIS VARIABLE BELOW TO REFLECT YOUR RUN COUNTS.\n",
        "# Then edit the plot code in the next block to make it clear, add labels, etc.\n",
        "# INCLUDE ENOUGH TRIALS.  HINT, 10 IS NOT \"ENOUGH\" FOR CLOSEST POINTS.\n",
        "mybrutecounts = [0.8*x**1.9 for x in range(50)] # this is just a stub\n",
        "myCLRScounts = [0.7*x**1.8 for x in range(50)] # this is just a stub\n"
      ],
      "metadata": {
        "id": "q80a5l-tfPyU"
      },
      "execution_count": null,
      "outputs": []
    },
    {
      "cell_type": "markdown",
      "metadata": {
        "id": "kdpHJd9YN8L5"
      },
      "source": [
        "### Plot\n",
        "Make adjustments to the code below.  Plots must tell a story; show that Brute Force approximates one well known distribution, and CLRS another."
      ]
    },
    {
      "cell_type": "code",
      "metadata": {
        "id": "DXyYN7SsD0-e"
      },
      "source": [
        "# Code adapted from Sahil Sharma, used with permission, from Spring, 2021\n",
        "\n",
        "from math import pow\n",
        "from math import log2\n",
        "from math import factorial\n",
        "\n",
        "# REQUIRES mybrutecounts, myCLRScounts set above\n",
        "N=len(mybrutecounts)\n",
        "\n",
        "# benchmark data set generation\n",
        "yTestVals1 = [0,] # linear for O(n)\n",
        "yTestVals2 = [0,] # quadratic for O(n^2)\n",
        "yTestVals3 = [0,] # n*log(n) for O(nlog(n))\n",
        "yTestVals4 = [0,] # 5*n*log(n) for O(nlog(n))\n",
        "\n",
        "# generate bench mark data for O(n), O(n^2), O(nlog(n)), O(10*nlog(n)), and O(n!)\n",
        "for i in range(2, N+1):\n",
        "    # UPDATE THE COEFFICIENTS TO THESE FUNCTIONS TO BRING SOME IN \"TIGHT\" TO\n",
        "    # THE BRUTE FORCE, and some to the CLRS, or add others.\n",
        "    yTestVals1.append(i)\n",
        "    yTestVals2.append(pow(i, 2))\n",
        "    yTestVals3.append(i*log2(i))\n",
        "    yTestVals4.append(5*i*log2(i))\n",
        "\n",
        "# %matplotlib inline\n",
        "import matplotlib.pyplot as plt\n",
        "\n",
        "# Brute vs. CLRS execution steps\n",
        "plt.rcParams['figure.figsize'] = [10,10]\n",
        "fig, (ax1) = plt.subplots(1, 1)\n",
        "fig.suptitle('Runtime Analysis', size=\"xx-large\")\n",
        "\n",
        "# plotting nearest neighbor execution steps\n",
        "ax1.set_title('Brute Improved vs. CLRS', size=\"x-large\")\n",
        "ax1.plot(range(N), mybrutecounts, \"rx-\", markersize=10, linewidth=4, label=\"LABEL HERE\")\n",
        "ax1.plot(range(N), myCLRScounts, \"gx-\", markersize=10, linewidth=4, label=\"OTHER LABEL HERE\")\n",
        "ax1.plot(range(N), yTestVals1, \"m^-\", markersize=0, linewidth=1, label=\"benchmark O(n)\")\n",
        "ax1.plot(range(N), yTestVals3, \"g^-\", markersize=0, linewidth=1, label=\"benchmark O(nlog(n))\")\n",
        "ax1.plot(range(N), yTestVals4, \"y^-\", markersize=0, linewidth=1, label=\"benchmark O(5*nlog(n))\")\n",
        "ax1.plot(range(N), yTestVals2, \"b^-\", markersize=0, linewidth=1, label=\"benchmark O(n^2)\")\n",
        "ax1.grid(which='major', axis='both')\n",
        "ax1.set(xlabel = 'WHAT GOES HERE X?', ylabel = 'WHAT GOES HERE Y?')\n",
        "ax1.legend(loc=(0.05,0.65), scatterpoints=1)\n",
        "ax1.tick_params(axis=\"both\", which=\"major\", labelsize=14)"
      ],
      "execution_count": null,
      "outputs": []
    },
    {
      "cell_type": "markdown",
      "metadata": {
        "id": "0fQkchVmN-R_"
      },
      "source": [
        "### Analysis Writeup"
      ]
    },
    {
      "cell_type": "markdown",
      "metadata": {
        "id": "KWXetIVxZnpi"
      },
      "source": [
        "***I WILL WRITE MY DESCRIPTION HERE OF WHAT IS HAPPENING REGARDING THE FIGURE ABOVE.  I WILL DISCUSS THE TIGHTEST ASYMPTOTIC NOTATION OF THE ALGORITHM.***"
      ]
    },
    {
      "cell_type": "markdown",
      "metadata": {
        "id": "UkF465owZnpj"
      },
      "source": [
        "## Retrospection (10 pts)\n",
        "Talk about how you did on this assignment.  This is just feedback to the instructor.  You can edit this cell and answer inline in non-bold.  Please go into some detail.\n",
        "* **What was the last bug you found and fixed?** my detailed discussion of a bug; this assignment might not be so bad, but there may be some tricky cases on future ones\n",
        "* **What are some late-breaking ideas you had for improving your implementation, that maybe you didn't have time to implement?** my thoughts\n",
        "* **What did you feel you learned from this assignment?** my thoughts\n",
        "* **How would you improve this assignment for future semesters?** my thoughts\n",
        "\n",
        "If there's anything else you'd like to say, feel free to write it.\n"
      ]
    },
    {
      "cell_type": "markdown",
      "metadata": {
        "id": "b1W-71sMZnpj"
      },
      "source": [
        "# Citations\n",
        "Include citations for any and all help you received."
      ]
    },
    {
      "cell_type": "markdown",
      "source": [
        "# Submission Reminders\n",
        "\n",
        "Submit to Blackboard per instructions found on Blackboard.  In most cases, you just upload your ipynb file.  Before you do that,\n",
        "\n",
        "\n",
        "* \"restart and run all\" before submitting.  Make sure it runs and does not throw exceptions, even if it does not pass all the test cases.  The grader \"restarts and runs all\" and expects it to run completely through.  We have graded many assignments where the student has done only a partial run, or run things out of order, leaving around old variables that give false results, only to have it throw an exception or give a different answer when the grader runs it.\n",
        "\n",
        "* Rerun your code blocks, make sure you get the same answer each time.  The instructor's test block makes repeated calls to your code, and if you've left a stray variable that doesn't get cleared, it could affect the results.  \n",
        "\n",
        "* Make sure you've completed every task in this notebook.\n",
        "\n",
        "* If there's a plot required, make sure it's legible, axes correctly labeled, and that it \"tells a story\" about what is being shown.\n",
        "\n",
        "* Double check that you have not changed the function signature.\n",
        "\n",
        "* Include a statement of academic integrity in the block at the top.  \n",
        "\n",
        "* Put your name at the top."
      ],
      "metadata": {
        "id": "X3n8VLjPwzwv"
      }
    }
  ]
}