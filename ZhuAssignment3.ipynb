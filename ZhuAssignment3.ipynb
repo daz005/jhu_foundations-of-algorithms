{
  "nbformat": 4,
  "nbformat_minor": 0,
  "metadata": {
    "kernelspec": {
      "display_name": "Python 3 (Spyder)",
      "language": "python3",
      "name": "python3"
    },
    "language_info": {
      "codemirror_mode": {
        "name": "ipython",
        "version": 3
      },
      "file_extension": ".py",
      "mimetype": "text/x-python",
      "name": "python",
      "nbconvert_exporter": "python",
      "pygments_lexer": "ipython3",
      "version": "3.7.6"
    },
    "colab": {
      "provenance": []
    }
  },
  "cells": [
    {
      "cell_type": "markdown",
      "metadata": {
        "id": "oS--elmpJi9p"
      },
      "source": [
        "John Doe, Programming Assignment 3, Algorithms 605.621\n",
        "\n",
        "# Statement of Academic Integrity\n",
        "\n",
        "Statement of Integrity: I, Derek Zhu, state that I completed this assignment with integrity and by myself."
      ]
    },
    {
      "cell_type": "markdown",
      "metadata": {
        "id": "c4QP9-8CSj1M"
      },
      "source": [
        "# Instructions to Students\n",
        "This programming assignment is contained entirely in this IPython/Jupyter notebook. You are to read the problem from this notebook, and answer questions/make required modifications in this same notebook and submit it as a notebook.  Look for **BOLDFACE AND/OR ALL CAPS** for where to put your answers.  Do not delete the problem statements, text, etc, leave all that as-is (makes grading easier)."
      ]
    },
    {
      "cell_type": "markdown",
      "metadata": {
        "id": "oXbl8QG9Sj1N"
      },
      "source": [
        "# Overview\n",
        "\n",
        "You are consulting for a group of people (who would prefer not to be mentioned here by name) whose job consists of monitoring and analyzing electronic signals coming from ships in the Atlantic ocean. They want a fast algorithm for _untangling_ a superposition of two known signals. You are to analyze an efficient algorithm that tells whether a signal s is a valid superposition of two known signals x and y, with x and y consisting of a common set of symbols, allowing for repeats of either x or y in s.\n",
        "\n",
        "In this alternative assignment, you will investigate an algorithm that the instructor adapted significantly from an article from [Geeks for Geeks, Find if a string is interleaved of two other strings | DP-33](https://www.geeksforgeeks.org/find-if-a-string-is-interleaved-of-two-other-strings-dp-33/), as their original algorithm was presented without explanation.  (You may look at that if it helps.)  This is a useful example of _memoization,_ a technique that saves prior state computed on overlapping subproblems to avoid repetitive calculations."
      ]
    },
    {
      "cell_type": "markdown",
      "metadata": {
        "id": "mrOCRSxrSj1N"
      },
      "source": [
        "# Algorithm\n",
        "The following is the instructor's adapted algorithm."
      ]
    },
    {
      "cell_type": "markdown",
      "metadata": {
        "id": "-VIZ1kQJSj1N"
      },
      "source": [
        "<!--- This is a Markdown comment. -->\n",
        "<!--- Separate the $...$ in many cases to get Latex to render properly.\n",
        "      In output LaTeX, use incorrectly closed <span hidden> to pass in LaTeX options. -->\n",
        "1. **function** isInterleaved(inA, inB, inS):\n",
        "1. $~~~~$ A, B, S = inA, inB, inS\n",
        "1. $~~~~$ m, n = len(A), len(B) _# A indexed by i, B indexed by j_\n",
        "\n",
        "1. $~~~~$ A = \"\\_\" $||$ A $~~~~$_#The underscore _ means the null symbol_\n",
        "1. $~~~~$ B = \"\\_\" $||$ B\n",
        "1. $~~~~$ S = \"\\_\" $||$ S\n",
        "\n",
        "1. $~~~~$ TL $\\gets$ _an m+1 by n+1 table of booleans all set to False initially_\n",
        "\n",
        "1. $~~~~$ TL$_{0,\\ 0} \\gets$ True\n",
        "\n",
        "1. $~~~~$ **for** i = 0 to m $~~~~$_# 0, 1, ... m-1, m_\n",
        "1. $~~~~~~~~$ **for** j = 0 to n\n",
        "1. $~~~~~~~~~~~~$ **if** i+j==0\n",
        "1. $~~~~~~~~~~~~~~~~$ **continue** $~~~~$_# skip rest of this loop, continue w/next j_\n",
        "1. $~~~~~~~~~~~~$ R$_a$, R$_b$ $\\gets$ False\n",
        "1. $~~~~~~~~~~~~$ **if** A$_i$ == S$_{i+j}$ **and** i $\\ge$ 1\n",
        "1. $~~~~~~~~~~~~~~~~$ R$_a$ $\\gets$ TL$_{i-1,\\ j}$\n",
        "1. $~~~~~~~~~~~~$ **if** B$_j$ == S$_{i+j}$ **and** j $\\ge$ 1\n",
        "1. $~~~~~~~~~~~~~~~~$ R$_b$ $\\gets$ TL$_{i,\\ j-1}$\n",
        "1. $~~~~~~~~~~~~$ TL$_{i,\\ j} \\gets$ R$_a$ **or** R$_b$\n",
        "1. $~~~~~~~~$ **end for**\n",
        "1. $~~~~$ **end for**\n",
        "1. $~~~~$ **if** TL$_{m,\\ n}$ == True\n",
        "1. $~~~~~~~~$ **return** 1, 1\n",
        "1. $~~~~$ **else**\n",
        "1. $~~~~~~~~$ **return** False\n",
        "1. **end function**"
      ]
    },
    {
      "cell_type": "markdown",
      "metadata": {
        "id": "JkmvgfqjSj1N"
      },
      "source": [
        "This algorithm accepts two collections of symbols inA and inB, called _strings_, and a third string inS that claims to be the output of an interleaving of the symbols of inA with those of inB.  The algorithm returns the count of the repetitions of A and B if inS is such an interleaving, else false.  It runs in O(mn) time.\n",
        "\n",
        "***Note that*** the same signal is guaranteed not to interleave with itself.  If A is transmitting abc as its signal, it may be received as abcabcabc, but it will never be aabaccbcc.\n",
        "\n",
        "For those new to programming, the _continue_ statement \"bails out\" and jumps to the next iteration.  In a _for_ loop, this means set the index to the next value and run the loop again.  Recall that $||$ means concatenation such that ``\"h\" || \"ello\"`` $\\rightarrow$ ``\"hello\"``."
      ]
    },
    {
      "cell_type": "code",
      "source": [
        "print_log = False\n",
        "def helpFunction1(inA, inB, inS):\n",
        "    \"\"\"\n",
        "    Checks if S is an interleaving of strings A and B.  Returns the count\n",
        "    (a, b) of the number of instances of A and B, respectively (at least 1,1).\n",
        "\n",
        "    Adapted by R. Fink from Geeks for Geeks,\n",
        "    https://www.geeksforgeeks.org/find-if-a-string-is-interleaved-of-two-other-strings-dp-33/\n",
        "\n",
        "    Parameters\n",
        "    ----------\n",
        "    inA : string\n",
        "    inB : string\n",
        "    inS : string to check against\n",
        "\n",
        "    Returns\n",
        "    -------\n",
        "    (int a, int b) count of a patterns and b patterns matched in S\n",
        "\n",
        "    \"\"\"\n",
        "    ############################# begin My code\n",
        "    total_a=0 # number repetitions of A\n",
        "    total_b=0 # number repetitions of B\n",
        "    isInterleaved = False\n",
        "    if print_log:\n",
        "      print()\n",
        "      print(\"A=\", end=\"\")\n",
        "      print(inA, end=\"\")\n",
        "      print(\",B=\", end=\"\")\n",
        "      print(inB, end=\"\")\n",
        "      print(\",S=\", end=\"\")\n",
        "      print(inS, )\n",
        "    ############################# end My code\n",
        "\n",
        "    A = inA\n",
        "    B = inB\n",
        "    S = inS\n",
        "\n",
        "    m=len(A)            # A is down the rows, indexed by i, starting 1\n",
        "    n=len(B)            # B goes across cols, indexed by j, starting 1\n",
        "    l =len(S)\n",
        "    if l==0 or m==0 or n==0:\n",
        "      return (False, 0, 0)\n",
        "    delta = l - (m+n)\n",
        "    if delta <0:\n",
        "      delta = 0\n",
        "    else:\n",
        "      for i in range(m, m+1 + delta):\n",
        "        A = A+ A[i%m]\n",
        "      for i in range(n, n+1 + delta):\n",
        "        B = B+ B[i%n]\n",
        "\n",
        "\n",
        "    # Add a dummy character at start, so that indexing starts at 1\n",
        "    A = \"*\" + A         # _ represents the null character\n",
        "    B = \"*\" + B\n",
        "    S = \"*\" + S\n",
        "\n",
        "    # Initialize the table;\n",
        "    TL=[[False]*(n+1+delta) for _ in range(m+1+delta)] # initialize m x n table to false\n",
        "    TL[0][0] = True             # represents null,null case (always true)\n",
        "\n",
        "    tabstr_head =[x for x in B] # for printing\n",
        "\n",
        "############################# begin: just print, nothing else\n",
        "    if print_log:\n",
        "      print(\"  \", end=\"\")\n",
        "      print(tabstr_head)\n",
        "############################# end print\n",
        "\n",
        "    tabstr=[[\"F\"]*(n+1+delta) for _ in range(m+1+delta)] # for printing\n",
        "    tabstr[0][0] = \"T \"\n",
        "\n",
        "    # For all symbols in A, traveling top to bottom down the rows\n",
        "    for i in range(0,m+1+delta):\n",
        "        # For all symbols in B, traveling left to right across the columns\n",
        "        for j in range (0,n+1+delta):\n",
        "            if i+j==0:\n",
        "                continue            # skip element 0,0 (already true)\n",
        "            Ra = Rb = False\n",
        "            # If the horizontal pattern A matches the next symbol of S,\n",
        "            if i + j < len(S) and A[i] == S[i+j] and i>=1:\n",
        "                Ra = TL[i-1][j]     # then propagate the state across the row\n",
        "            # If the vertical pattern B matches the next symbol of S,\n",
        "            if  i + j < len(S) and B[j] == S[i+j] and j>=1:\n",
        "                Rb = TL[i][j-1]     # then propagate the state down the column\n",
        "\n",
        "            # Take the union of the two states\n",
        "            TL[i][j] = Ra or Rb\n",
        "\n",
        "\n",
        "            # Print the \"from\" state  ^ from down column, < from across row\n",
        "            if Ra and Rb:\n",
        "              tabstr[i][j] = \"+\" #+ S[i+j]\n",
        "            elif Ra:\n",
        "              tabstr[i][j] = \"^\" #+ A[i]\n",
        "            elif Rb:\n",
        "              tabstr[i][j] =  \"<\" #+ B[j]\n",
        "            elif i + j < len(S):\n",
        "              tabstr[i][j] = \"F\" # +  S[i+j]\n",
        "            else:\n",
        "              tabstr[i][j] = \" \"\n",
        "\n",
        "############################# begin: just print, nothing else\n",
        "        if print_log:\n",
        "          print(A[i], end=\"\")\n",
        "          print(tabstr[i])\n",
        "############################# end print\n",
        "\n",
        "    total_a = 0\n",
        "    total_b = 0\n",
        "    i= m+delta\n",
        "    while i>0 and total_a==0:\n",
        "      j= n+delta\n",
        "      while j>0:\n",
        "        if i%m==0 and (tabstr[i][j] == \"+\" or tabstr[i][j] == \"^\"):\n",
        "          total_a = i\n",
        "          break\n",
        "        j = j - 1\n",
        "      i = i - 1\n",
        "\n",
        "    j= n+delta\n",
        "    while j>0 and total_b==0:\n",
        "      i= m+delta\n",
        "      while i>0:\n",
        "        if j%n==0 and (tabstr[i][j] == \"+\" or tabstr[i][j] == \"<\"):\n",
        "          total_b = j\n",
        "          break\n",
        "        i = i - 1\n",
        "      j = j - 1\n",
        "\n",
        "\n",
        "    (a,b) = (total_a, total_b)\n",
        "    if m>0:\n",
        "      a = total_a//m\n",
        "    if n>0:\n",
        "      b = total_b//n\n",
        "\n",
        "    if a>0 and b>0 and (a*m + b*n) == l:\n",
        "      isInterleaved = True\n",
        "    elif a>0 and b>0 and total_a>=m and total_b>=n: # skip tail noise\n",
        "      isInterleaved = True\n",
        "############################# begin: just print, nothing else\n",
        "      if print_log:\n",
        "        if (a*m + b*n) < l:\n",
        "          print(\"tail noise: \",end=\"\")\n",
        "          print(inS[a*m + b*n+1:])\n",
        "############################# end print\n",
        "\n",
        "############################# begin: just print, nothing else\n",
        "    if print_log:\n",
        "      print()\n",
        "      print(\"i=\", end=\"\")\n",
        "      print(total_a, end=\"\")\n",
        "      print(\" j=\", end=\"\")\n",
        "      print(total_b, end=\"\")\n",
        "      print(\", a=\", end=\"\")\n",
        "      print(total_a//m, end=\"\")\n",
        "      print(\" b=\", end=\"\")\n",
        "      print(total_b//n, end=\"\")\n",
        "      print(\", isInterleaved=\", end=\"\")\n",
        "      print(isInterleaved)\n",
        "############################# end print\n",
        "\n",
        "    return (isInterleaved, a, b)\n",
        "\n",
        "def helpFunction(inA, inB, inS):\n",
        "    (isInterleaved, a, b) = (False, 0, 0)\n",
        "    while len(inS) > 0:\n",
        "      (isInterleaved, a, b) = helpFunction1(inA, inB, inS)\n",
        "      if a==0 or b==0: # skip leading noise\n",
        "############################# begin: just print, nothing else\n",
        "        if print_log:\n",
        "          print(\"found leading noise: \", end=\"\")\n",
        "          print(inS[0:1])\n",
        "############################# end print\n",
        "        inS = inS[1:]\n",
        "      else:\n",
        "        break\n",
        "\n",
        "    return (isInterleaved, a, b)\n",
        ""
      ],
      "metadata": {
        "id": "fU4lYJ2qsacZ"
      },
      "execution_count": 257,
      "outputs": []
    },
    {
      "cell_type": "markdown",
      "metadata": {
        "id": "kVlrqCJeSj1N"
      },
      "source": [
        "# Problems\n",
        "\n",
        "## Preliminaries - Trace Tables\n",
        "We're going to build an understanding of this algorithm by tracing through some examples.\n",
        "\n",
        "For each one of these traces, construct a _trace table_ to store the value of TL as follows.  \n",
        "\n",
        "Each entry in the trace table will consist of these characters and their associated meanings:\n",
        "\n",
        "* ***T*** $~~$ True\n",
        "* ***F*** $~~$ False\n",
        "* ***^*** $~~$ the value of the cell above (prev row)\n",
        "* ***&lt;*** $~~$ the value of the cell to the left (prev column)\n",
        "* ***+*** $~~$ the value of the cell above, logically ***or***'d with the value of the cell to the left\n",
        "\n",
        "For an input pattern A of length m, and B of length n, create a table with m+1 rows (going down) and n+1 columns (going across), all initialized to F.\n",
        "\n",
        "Put pattern A down the left side, so that each symbol in A starts off a new row.  Put pattern B across the top, so that each symbol in B is the head of its own column.  Set the first two entries in both row, and column, to the * character as a placeholder for the null symbol.\n",
        "\n",
        "## Example\n",
        "Here is an example trace table, showing a run of \"1001\" on patterns A=\"101\" and B=\"0\". <br>\n",
        "<br>\n",
        "\n",
        "|||\n",
        "|-|-|\n",
        "| A:|  101 |\n",
        "| B:|  0   |\n",
        "|String:|  1001|\n",
        "\n",
        "|        |  **\\***   | **0**  |\n",
        "|--------|-------|-------|\n",
        "| **\\*** |   T   |   F   |\n",
        "| **1**  |   ^   |   <   |\n",
        "| **0**  |   ^   |   +   |\n",
        "| **1**  |   F   |   ^   |\n",
        "\n",
        "(Copy the table code from this cell to supply your answers down below.  Show only completed tables, not iterative steps.)\n",
        "\n",
        "We construct the table by placing A down the left, B across the top.  We also use splats (\\*) as placeholders for the null character, as required in the algorithm.  Cells are indexed by row/column starting at 0,0, such that cell (1,0) is the second row, first column.  Per the algorithm, cell (0,0) is initialized to T (and all the rest are initialized to False).\n",
        "\n",
        "To trace the algorithm, append a null character in front of the input signal string.  In our case, that makes S=N1001, where \"N\" is the null character.  Then, start at cell (1,0), where we consider the **1** from A (and nothing from B).  \n",
        "\n",
        "Line 15 of the algorithm says that if A\\[1\\] matches the first symbol in S, then the current cell \"inherits\" the value from the cell above it, so we mark cell (1,0) with a **^**. (Note how the null character causes us to index our null-prefixed signal S\\[0..\\] starting from 1).\n",
        "\n",
        "S=N<font color='red'>1</font>001\n",
        "\n",
        "|        |  **\\***   | **0**  |\n",
        "|--------|-------|-------|\n",
        "| **\\*** |   T   |   F   |\n",
        "| **1**  |   ^   |      |\n",
        "| **0**  |      |      |\n",
        "| **1**  |      |      |\n",
        "\n",
        "Generally speaking, if S[i+j] matches:\n",
        " * A[i] but not B[j], then **^**\n",
        " * Not A[i] but B[j], then **<**\n",
        " * Both A[i] and B[j], then **+**\n",
        " * Neither A[i] nor B[j], then **F**\n",
        "\n",
        "With these rules above, continuing down the row, cell (2,0) sees A\\[2\\]==0 matching S\\[2\\], so it inherits from above meaning we place a ^.  \n",
        "\n",
        "S=N1<font color='red'>0</font>01\n",
        "\n",
        "|        |  **\\***   | **0**  |\n",
        "|--------|-------|-------|\n",
        "| **\\*** |   T   |   F   |\n",
        "| **1**  |   ^   |      |\n",
        "| **0**  |   ^  |      |\n",
        "| **1**  |      |      |\n",
        "\n",
        "Finally, cell (3,0) does not see a match between A\\[3\\] and S\\[3\\], and \\* from B can't match anything, so we place an **F**.  \n",
        "\n",
        "S=N10<font color='red'>0</font>1\n",
        "\n",
        "|        |  **\\***   | **0**  |\n",
        "|--------|-------|-------|\n",
        "| **\\*** |   T   |   F   |\n",
        "| **1**  |   ^   |      |\n",
        "| **0**  |   ^  |      |\n",
        "| **1**  |   F   |      |\n",
        "\n",
        "Now, move onto the second column (first character of B) and repeat the process above.  At cell (1,1), i and j add to two, so we look at S\\[2\\].  Since it matches B (per line 17), we indicate a left arrow.\n",
        "\n",
        "S=N1<font color='red'>0</font>01\n",
        "\n",
        "|        |  **\\***   | **0**  |\n",
        "|--------|-------|-------|\n",
        "| **\\*** |   T   |   F   |\n",
        "| **1**  |   ^   |   <   |\n",
        "| **0**  |   ^   |       |\n",
        "| **1**  |   F   |       |\n",
        "\n",
        "Note at cell (2,1), the 3rd actual character of S (which is 0) matches both the second character of A and the first character of B, so it gets a **+**.\n",
        "\n",
        "S=N10<font color='red'>0</font>1\n",
        "\n",
        "|        |  **\\***   | **0**  |\n",
        "|--------|-------|-------|\n",
        "| **\\*** |   T   |   F   |\n",
        "| **1**  |   ^   |   <   |\n",
        "| **0**  |   ^   |   +   |\n",
        "| **1**  |   F   |       |\n",
        "\n",
        "We proceed along until we complete the table as shown at the start.  We confirm the interleaving if and only if we can start at the last cell, and using the arrows and pluses, find a \"path\" back to a cell that encodes to True.  In this case, cell (3,2) evaluates to True if you can start at cell (3,2) and, following the arrows, find at least one path back to a cell with \"T\", cell (0,0) in this case.   In general, cell (m,n) will evaluate to True if and only if S is an interleaving of A and B.  \n",
        "\n",
        "(Minor note - the algorithm itself assigns true/false to the table, not arrows and pluses.  The arrow/plus designation is to help us identify why each cell has a certain value, which is the beauty of the thing.)\n",
        "\n",
        "**In your writeups and answers, PLEASE copy the Jupyter code for table at the top from this cell as a starting point for building your own trace table.  Do not show intermediate steps, just a final table.**\n",
        "\n",
        "\n"
      ]
    },
    {
      "cell_type": "code",
      "source": [
        "print_log = True\n",
        "A=\"xyz\"\n",
        "B=\"ab\"\n",
        "S=\"000abxyzb00000\"\n",
        "r=helpFunction(A, B, S)\n",
        "print_log=False"
      ],
      "metadata": {
        "colab": {
          "base_uri": "https://localhost:8080/"
        },
        "id": "Pj99_85eGncA",
        "outputId": "d599370c-bf3b-4fb8-8488-f6b9a41cd348"
      },
      "execution_count": 258,
      "outputs": [
        {
          "output_type": "stream",
          "name": "stdout",
          "text": [
            "\n",
            "A=xyz,B=ab,S=000abxyzb00000\n",
            "  ['*', 'a', 'b', 'a', 'b', 'a', 'b', 'a', 'b', 'a', 'b', 'a', 'b']\n",
            "*['T ', 'F', 'F', 'F', 'F', 'F', 'F', 'F', 'F', 'F', 'F', 'F']\n",
            "x['F', 'F', 'F', 'F', 'F', 'F', 'F', 'F', 'F', 'F', 'F', 'F']\n",
            "y['F', 'F', 'F', 'F', 'F', 'F', 'F', 'F', 'F', 'F', 'F', 'F']\n",
            "z['F', 'F', 'F', 'F', 'F', 'F', 'F', 'F', 'F', 'F', 'F', 'F']\n",
            "x['F', 'F', 'F', 'F', 'F', 'F', 'F', 'F', 'F', 'F', 'F', ' ']\n",
            "y['F', 'F', 'F', 'F', 'F', 'F', 'F', 'F', 'F', 'F', ' ', ' ']\n",
            "z['F', 'F', 'F', 'F', 'F', 'F', 'F', 'F', 'F', ' ', ' ', ' ']\n",
            "x['F', 'F', 'F', 'F', 'F', 'F', 'F', 'F', ' ', ' ', ' ', ' ']\n",
            "y['F', 'F', 'F', 'F', 'F', 'F', 'F', ' ', ' ', ' ', ' ', ' ']\n",
            "z['F', 'F', 'F', 'F', 'F', 'F', ' ', ' ', ' ', ' ', ' ', ' ']\n",
            "x['F', 'F', 'F', 'F', 'F', ' ', ' ', ' ', ' ', ' ', ' ', ' ']\n",
            "y['F', 'F', 'F', 'F', ' ', ' ', ' ', ' ', ' ', ' ', ' ', ' ']\n",
            "z['F', 'F', 'F', ' ', ' ', ' ', ' ', ' ', ' ', ' ', ' ', ' ']\n",
            "\n",
            "i=0 j=0, a=0 b=0, isInterleaved=False\n",
            "found leading noise: 0\n",
            "\n",
            "A=xyz,B=ab,S=00abxyzb00000\n",
            "  ['*', 'a', 'b', 'a', 'b', 'a', 'b', 'a', 'b', 'a', 'b', 'a']\n",
            "*['T ', 'F', 'F', 'F', 'F', 'F', 'F', 'F', 'F', 'F', 'F']\n",
            "x['F', 'F', 'F', 'F', 'F', 'F', 'F', 'F', 'F', 'F', 'F']\n",
            "y['F', 'F', 'F', 'F', 'F', 'F', 'F', 'F', 'F', 'F', 'F']\n",
            "z['F', 'F', 'F', 'F', 'F', 'F', 'F', 'F', 'F', 'F', 'F']\n",
            "x['F', 'F', 'F', 'F', 'F', 'F', 'F', 'F', 'F', 'F', ' ']\n",
            "y['F', 'F', 'F', 'F', 'F', 'F', 'F', 'F', 'F', ' ', ' ']\n",
            "z['F', 'F', 'F', 'F', 'F', 'F', 'F', 'F', ' ', ' ', ' ']\n",
            "x['F', 'F', 'F', 'F', 'F', 'F', 'F', ' ', ' ', ' ', ' ']\n",
            "y['F', 'F', 'F', 'F', 'F', 'F', ' ', ' ', ' ', ' ', ' ']\n",
            "z['F', 'F', 'F', 'F', 'F', ' ', ' ', ' ', ' ', ' ', ' ']\n",
            "x['F', 'F', 'F', 'F', ' ', ' ', ' ', ' ', ' ', ' ', ' ']\n",
            "y['F', 'F', 'F', ' ', ' ', ' ', ' ', ' ', ' ', ' ', ' ']\n",
            "\n",
            "i=0 j=0, a=0 b=0, isInterleaved=False\n",
            "found leading noise: 0\n",
            "\n",
            "A=xyz,B=ab,S=0abxyzb00000\n",
            "  ['*', 'a', 'b', 'a', 'b', 'a', 'b', 'a', 'b', 'a', 'b']\n",
            "*['T ', 'F', 'F', 'F', 'F', 'F', 'F', 'F', 'F', 'F']\n",
            "x['F', 'F', 'F', 'F', 'F', 'F', 'F', 'F', 'F', 'F']\n",
            "y['F', 'F', 'F', 'F', 'F', 'F', 'F', 'F', 'F', 'F']\n",
            "z['F', 'F', 'F', 'F', 'F', 'F', 'F', 'F', 'F', 'F']\n",
            "x['F', 'F', 'F', 'F', 'F', 'F', 'F', 'F', 'F', ' ']\n",
            "y['F', 'F', 'F', 'F', 'F', 'F', 'F', 'F', ' ', ' ']\n",
            "z['F', 'F', 'F', 'F', 'F', 'F', 'F', ' ', ' ', ' ']\n",
            "x['F', 'F', 'F', 'F', 'F', 'F', ' ', ' ', ' ', ' ']\n",
            "y['F', 'F', 'F', 'F', 'F', ' ', ' ', ' ', ' ', ' ']\n",
            "z['F', 'F', 'F', 'F', ' ', ' ', ' ', ' ', ' ', ' ']\n",
            "x['F', 'F', 'F', ' ', ' ', ' ', ' ', ' ', ' ', ' ']\n",
            "\n",
            "i=0 j=0, a=0 b=0, isInterleaved=False\n",
            "found leading noise: 0\n",
            "\n",
            "A=xyz,B=ab,S=abxyzb00000\n",
            "  ['*', 'a', 'b', 'a', 'b', 'a', 'b', 'a', 'b', 'a']\n",
            "*['T ', '<', '<', 'F', 'F', 'F', 'F', 'F', 'F']\n",
            "x['F', 'F', '^', 'F', 'F', 'F', 'F', 'F', 'F']\n",
            "y['F', 'F', '^', 'F', 'F', 'F', 'F', 'F', 'F']\n",
            "z['F', 'F', '^', 'F', 'F', 'F', 'F', 'F', 'F']\n",
            "x['F', 'F', 'F', 'F', 'F', 'F', 'F', 'F', ' ']\n",
            "y['F', 'F', 'F', 'F', 'F', 'F', 'F', ' ', ' ']\n",
            "z['F', 'F', 'F', 'F', 'F', 'F', ' ', ' ', ' ']\n",
            "x['F', 'F', 'F', 'F', 'F', ' ', ' ', ' ', ' ']\n",
            "y['F', 'F', 'F', 'F', ' ', ' ', ' ', ' ', ' ']\n",
            "z['F', 'F', 'F', ' ', ' ', ' ', ' ', ' ', ' ']\n",
            "\n",
            "i=3 j=0, a=1 b=0, isInterleaved=False\n",
            "found leading noise: a\n",
            "\n",
            "A=xyz,B=ab,S=bxyzb00000\n",
            "  ['*', 'a', 'b', 'a', 'b', 'a', 'b', 'a', 'b']\n",
            "*['T ', 'F', 'F', 'F', 'F', 'F', 'F', 'F']\n",
            "x['F', 'F', 'F', 'F', 'F', 'F', 'F', 'F']\n",
            "y['F', 'F', 'F', 'F', 'F', 'F', 'F', 'F']\n",
            "z['F', 'F', 'F', 'F', 'F', 'F', 'F', 'F']\n",
            "x['F', 'F', 'F', 'F', 'F', 'F', 'F', ' ']\n",
            "y['F', 'F', 'F', 'F', 'F', 'F', ' ', ' ']\n",
            "z['F', 'F', 'F', 'F', 'F', ' ', ' ', ' ']\n",
            "x['F', 'F', 'F', 'F', ' ', ' ', ' ', ' ']\n",
            "y['F', 'F', 'F', ' ', ' ', ' ', ' ', ' ']\n",
            "\n",
            "i=0 j=0, a=0 b=0, isInterleaved=False\n",
            "found leading noise: b\n",
            "\n",
            "A=xyz,B=ab,S=xyzb00000\n",
            "  ['*', 'a', 'b', 'a', 'b', 'a', 'b', 'a']\n",
            "*['T ', 'F', 'F', 'F', 'F', 'F', 'F']\n",
            "x['^', 'F', 'F', 'F', 'F', 'F', 'F']\n",
            "y['^', 'F', 'F', 'F', 'F', 'F', 'F']\n",
            "z['^', 'F', 'F', 'F', 'F', 'F', 'F']\n",
            "x['F', 'F', 'F', 'F', 'F', 'F', ' ']\n",
            "y['F', 'F', 'F', 'F', 'F', ' ', ' ']\n",
            "z['F', 'F', 'F', 'F', ' ', ' ', ' ']\n",
            "x['F', 'F', 'F', ' ', ' ', ' ', ' ']\n",
            "\n",
            "i=0 j=0, a=0 b=0, isInterleaved=False\n",
            "found leading noise: x\n",
            "\n",
            "A=xyz,B=ab,S=yzb00000\n",
            "  ['*', 'a', 'b', 'a', 'b', 'a', 'b']\n",
            "*['T ', 'F', 'F', 'F', 'F', 'F']\n",
            "x['F', 'F', 'F', 'F', 'F', 'F']\n",
            "y['F', 'F', 'F', 'F', 'F', 'F']\n",
            "z['F', 'F', 'F', 'F', 'F', 'F']\n",
            "x['F', 'F', 'F', 'F', 'F', ' ']\n",
            "y['F', 'F', 'F', 'F', ' ', ' ']\n",
            "z['F', 'F', 'F', ' ', ' ', ' ']\n",
            "\n",
            "i=0 j=0, a=0 b=0, isInterleaved=False\n",
            "found leading noise: y\n",
            "\n",
            "A=xyz,B=ab,S=zb00000\n",
            "  ['*', 'a', 'b', 'a', 'b', 'a']\n",
            "*['T ', 'F', 'F', 'F', 'F']\n",
            "x['F', 'F', 'F', 'F', 'F']\n",
            "y['F', 'F', 'F', 'F', 'F']\n",
            "z['F', 'F', 'F', 'F', 'F']\n",
            "x['F', 'F', 'F', 'F', ' ']\n",
            "y['F', 'F', 'F', ' ', ' ']\n",
            "\n",
            "i=0 j=0, a=0 b=0, isInterleaved=False\n",
            "found leading noise: z\n",
            "\n",
            "A=xyz,B=ab,S=b00000\n",
            "  ['*', 'a', 'b', 'a', 'b']\n",
            "*['T ', 'F', 'F', 'F']\n",
            "x['F', 'F', 'F', 'F']\n",
            "y['F', 'F', 'F', 'F']\n",
            "z['F', 'F', 'F', 'F']\n",
            "x['F', 'F', 'F', ' ']\n",
            "\n",
            "i=0 j=0, a=0 b=0, isInterleaved=False\n",
            "found leading noise: b\n",
            "\n",
            "A=xyz,B=ab,S=00000\n",
            "  ['*', 'a', 'b', 'a']\n",
            "*['T ', 'F', 'F']\n",
            "x['F', 'F', 'F']\n",
            "y['F', 'F', 'F']\n",
            "z['F', 'F', 'F']\n",
            "\n",
            "i=0 j=0, a=0 b=0, isInterleaved=False\n",
            "found leading noise: 0\n",
            "\n",
            "A=xyz,B=ab,S=0000\n",
            "  ['*', 'a', 'b']\n",
            "*['T ', 'F', 'F']\n",
            "x['F', 'F', 'F']\n",
            "y['F', 'F', 'F']\n",
            "z['F', 'F', ' ']\n",
            "\n",
            "i=0 j=0, a=0 b=0, isInterleaved=False\n",
            "found leading noise: 0\n",
            "\n",
            "A=xyz,B=ab,S=000\n",
            "  ['*', 'a', 'b']\n",
            "*['T ', 'F', 'F']\n",
            "x['F', 'F', 'F']\n",
            "y['F', 'F', ' ']\n",
            "z['F', ' ', ' ']\n",
            "\n",
            "i=0 j=0, a=0 b=0, isInterleaved=False\n",
            "found leading noise: 0\n",
            "\n",
            "A=xyz,B=ab,S=00\n",
            "  ['*', 'a', 'b']\n",
            "*['T ', 'F', 'F']\n",
            "x['F', 'F', ' ']\n",
            "y['F', ' ', ' ']\n",
            "z[' ', ' ', ' ']\n",
            "\n",
            "i=0 j=0, a=0 b=0, isInterleaved=False\n",
            "found leading noise: 0\n",
            "\n",
            "A=xyz,B=ab,S=0\n",
            "  ['*', 'a', 'b']\n",
            "*['T ', 'F', ' ']\n",
            "x['F', ' ', ' ']\n",
            "y[' ', ' ', ' ']\n",
            "z[' ', ' ', ' ']\n",
            "\n",
            "i=0 j=0, a=0 b=0, isInterleaved=False\n",
            "found leading noise: 0\n"
          ]
        }
      ]
    },
    {
      "cell_type": "markdown",
      "metadata": {
        "id": "Mr3FxFlnSj1N"
      },
      "source": [
        "## Problem 1 (10 total)\n",
        "### Part 1.a (5 pts)\n",
        "Trace the algorithm on S=10011 made of interleavings of single instances of A=101 and B=01.  Modify the following table to provide a trace:"
      ]
    },
    {
      "cell_type": "markdown",
      "metadata": {
        "id": "Lax76BLlSj1N"
      },
      "source": [
        "***MY ANSWER***\n",
        "\n",
        "||\n",
        "|-|-|\n",
        "| A:|  101  |\n",
        "| B:|  01   |\n",
        "|String:|  10011|\n",
        "\n",
        "|       |   *   | **0** | **1** |\n",
        "|-------|-------|-------|-------|\n",
        "|   *   |   T   |   F   |   F   |\n",
        "| **1** |   ^   |   <   |   F   |\n",
        "| **0** |   ^   |   +   |   <   |\n",
        "| **1** |   F   |   ^   |   +   |\n"
      ]
    },
    {
      "cell_type": "code",
      "source": [
        "print_log = True\n",
        "A=\"101\"\n",
        "B=\"01\"\n",
        "S=\"10011\"\n",
        "r=helpFunction(A, B, S)\n",
        "print_log=False"
      ],
      "metadata": {
        "colab": {
          "base_uri": "https://localhost:8080/"
        },
        "id": "dJs-IaTK4Ahe",
        "outputId": "300c3c36-3a24-4a39-a72b-b70e66758df6"
      },
      "execution_count": 259,
      "outputs": [
        {
          "output_type": "stream",
          "name": "stdout",
          "text": [
            "\n",
            "A=101,B=01,S=10011\n",
            "  ['*', '0', '1', '0']\n",
            "*['T ', 'F', 'F']\n",
            "1['^', '<', 'F']\n",
            "0['^', '+', '<']\n",
            "1['F', '^', '+']\n",
            "\n",
            "i=3 j=2, a=1 b=1, isInterleaved=True\n"
          ]
        }
      ]
    },
    {
      "cell_type": "markdown",
      "metadata": {
        "id": "aEcM3xUWSj1N"
      },
      "source": [
        "\n",
        "How does your table compare with the example provided above?  Answer:"
      ]
    },
    {
      "cell_type": "markdown",
      "metadata": {
        "id": "BBXEFeLBSj1N"
      },
      "source": [
        "***MY ANSWER*** *italicized text*\n",
        "\n",
        "*There is a path number difference of 1 between the two tables: three paths in the example provided, four paths in my table*"
      ]
    },
    {
      "cell_type": "markdown",
      "metadata": {
        "id": "mc1s07bQSj1N"
      },
      "source": [
        "### Part 1.b (5 pts)\n",
        "Trace S=10111 using A=101 and B=01. Is S a valid interleaving of A and B? Provide a trace table below, don't just provide an answer:"
      ]
    },
    {
      "cell_type": "markdown",
      "metadata": {
        "id": "QTA0R-XhSj1N"
      },
      "source": [
        "***MY ANSWER***\n",
        "\n",
        "*S is not a valid interleaving of A and B*\n",
        "\n",
        "|||\n",
        "|-|-|\n",
        "| A:|  101  |\n",
        "| B:|  01   |\n",
        "|String:|  10111|\n",
        "\n",
        "|       |   *   | **0** | **1** |\n",
        "|-------|-------|-------|-------|\n",
        "|   *   |   T   |   F   |  F    |\n",
        "| **1** |   ^   |   <   |  <    |\n",
        "| **0** |   ^   |   F   |  F    |\n",
        "| **1** |   ^   |   F   |  F    |"
      ]
    },
    {
      "cell_type": "code",
      "source": [
        "print_log=True\n",
        "A=\"101\"\n",
        "B=\"01\"\n",
        "S=\"10111\"\n",
        "r=helpFunction(A, B, S)\n",
        "print_log=False"
      ],
      "metadata": {
        "colab": {
          "base_uri": "https://localhost:8080/"
        },
        "id": "R9jMTvqo41Qu",
        "outputId": "3af763a4-4eba-4c2b-fcaf-cc57493e6bf2"
      },
      "execution_count": 260,
      "outputs": [
        {
          "output_type": "stream",
          "name": "stdout",
          "text": [
            "\n",
            "A=101,B=01,S=10111\n",
            "  ['*', '0', '1', '0']\n",
            "*['T ', 'F', 'F']\n",
            "1['^', '<', '<']\n",
            "0['^', 'F', 'F']\n",
            "1['^', 'F', 'F']\n",
            "\n",
            "i=0 j=2, a=0 b=1, isInterleaved=False\n",
            "found leading noise: 1\n",
            "\n",
            "A=101,B=01,S=0111\n",
            "  ['*', '0', '1']\n",
            "*['T ', '<', '<']\n",
            "1['F', '^', '+']\n",
            "0['F', 'F', 'F']\n",
            "1['F', 'F', ' ']\n",
            "\n",
            "i=0 j=2, a=0 b=1, isInterleaved=False\n",
            "found leading noise: 0\n",
            "\n",
            "A=101,B=01,S=111\n",
            "  ['*', '0', '1']\n",
            "*['T ', 'F', 'F']\n",
            "1['^', 'F', 'F']\n",
            "0['F', 'F', ' ']\n",
            "1['F', ' ', ' ']\n",
            "\n",
            "i=0 j=0, a=0 b=0, isInterleaved=False\n",
            "found leading noise: 1\n",
            "\n",
            "A=101,B=01,S=11\n",
            "  ['*', '0', '1']\n",
            "*['T ', 'F', 'F']\n",
            "1['^', 'F', ' ']\n",
            "0['F', ' ', ' ']\n",
            "1[' ', ' ', ' ']\n",
            "\n",
            "i=0 j=0, a=0 b=0, isInterleaved=False\n",
            "found leading noise: 1\n",
            "\n",
            "A=101,B=01,S=1\n",
            "  ['*', '0', '1']\n",
            "*['T ', 'F', ' ']\n",
            "1['^', ' ', ' ']\n",
            "0[' ', ' ', ' ']\n",
            "1[' ', ' ', ' ']\n",
            "\n",
            "i=0 j=0, a=0 b=0, isInterleaved=False\n",
            "found leading noise: 1\n"
          ]
        }
      ]
    },
    {
      "cell_type": "markdown",
      "metadata": {
        "id": "iKZmIuzJSj1N"
      },
      "source": [
        "## Problem 2 (20 total)\n",
        "The algorithm only handles a single interleaving of strings.  Can you come up with a way to handle _two_ interleavings of A, with a single interleaving of B?"
      ]
    },
    {
      "cell_type": "markdown",
      "metadata": {
        "id": "vg8hSFWLSj1N"
      },
      "source": [
        "### Part 2.a (5 pts)\n",
        "Consider original patterns from problem 1, where A=101 and B=01.  Consider string S=10011011 that has two copies of A instead of one.  Given the algorithm above, what is your strategy for successfully processing this string?  Answer:"
      ]
    },
    {
      "cell_type": "markdown",
      "metadata": {
        "id": "M9wNV5NYSj1N"
      },
      "source": [
        "***MY ANSWER***"
      ]
    },
    {
      "cell_type": "markdown",
      "metadata": {
        "id": "vsFXP4NnSj1N"
      },
      "source": [
        "###  Part 2.b (5 pts)\n",
        "Provide a trace of your solution.  Copy/paste the table format from other cells."
      ]
    },
    {
      "cell_type": "markdown",
      "metadata": {
        "id": "68cno57fSj1N"
      },
      "source": [
        "***MY TRACE***"
      ]
    },
    {
      "cell_type": "code",
      "source": [
        "print_log=True\n",
        "A=\"101\"\n",
        "B=\"01\"\n",
        "S=\"10011011\"\n",
        "r=helpFunction(A, B, S)\n",
        "print_log=False"
      ],
      "metadata": {
        "colab": {
          "base_uri": "https://localhost:8080/"
        },
        "id": "_pVlloAF7xGY",
        "outputId": "9471a25d-d067-4fc5-d0da-c474faaf4664"
      },
      "execution_count": 261,
      "outputs": [
        {
          "output_type": "stream",
          "name": "stdout",
          "text": [
            "\n",
            "A=101,B=01,S=10011011\n",
            "  ['*', '0', '1', '0', '1', '0', '1']\n",
            "*['T ', 'F', 'F', 'F', 'F', 'F']\n",
            "1['^', '<', 'F', 'F', 'F', 'F']\n",
            "0['^', '+', '<', 'F', 'F', 'F']\n",
            "1['F', '^', '+', '<', '<', 'F']\n",
            "1['F', '^', 'F', '^', '+', ' ']\n",
            "0['F', '^', '<', 'F', ' ', ' ']\n",
            "1['F', '^', '+', ' ', ' ', ' ']\n",
            "\n",
            "i=6 j=4, a=2 b=2, isInterleaved=True\n"
          ]
        }
      ]
    },
    {
      "cell_type": "markdown",
      "metadata": {
        "id": "NzpRq4imSj1N"
      },
      "source": [
        "### Part 2.c (10 pts)\n",
        "Can your solution for handling 2 A's and 1 B also handle the simpler case of a single A and a single B?  Specifically, what part of your trace table for A=101, B=01, that solves S=10011011, might show a match on S=10011 using a single A and a single B?  Explain how.  (HINT: you might need to try 2 A's and 2 B's to see a pattern.)"
      ]
    },
    {
      "cell_type": "markdown",
      "metadata": {
        "id": "53g8uh-ISj1O"
      },
      "source": [
        "***MY ANSWER and explaining how***"
      ]
    },
    {
      "cell_type": "code",
      "source": [
        "print_log=True\n",
        "A=\"101\"\n",
        "B=\"01\"\n",
        "S=\"10011\"\n",
        "r=helpFunction(A, B, S)\n",
        "\n",
        "print(\"---------------------\")\n",
        "\n",
        "A=\"101\"\n",
        "B=\"01\"\n",
        "S=\"10011011\"\n",
        "r=helpFunction(A, B, S)\n",
        "\n",
        "print_log=False"
      ],
      "metadata": {
        "colab": {
          "base_uri": "https://localhost:8080/"
        },
        "id": "vwnecaoR88eB",
        "outputId": "e073884a-be3a-40df-ec65-dc7034ecbc9a"
      },
      "execution_count": 262,
      "outputs": [
        {
          "output_type": "stream",
          "name": "stdout",
          "text": [
            "\n",
            "A=101,B=01,S=10011\n",
            "  ['*', '0', '1', '0']\n",
            "*['T ', 'F', 'F']\n",
            "1['^', '<', 'F']\n",
            "0['^', '+', '<']\n",
            "1['F', '^', '+']\n",
            "\n",
            "i=3 j=2, a=1 b=1, isInterleaved=True\n",
            "---------------------\n",
            "\n",
            "A=101,B=01,S=10011011\n",
            "  ['*', '0', '1', '0', '1', '0', '1']\n",
            "*['T ', 'F', 'F', 'F', 'F', 'F']\n",
            "1['^', '<', 'F', 'F', 'F', 'F']\n",
            "0['^', '+', '<', 'F', 'F', 'F']\n",
            "1['F', '^', '+', '<', '<', 'F']\n",
            "1['F', '^', 'F', '^', '+', ' ']\n",
            "0['F', '^', '<', 'F', ' ', ' ']\n",
            "1['F', '^', '+', ' ', ' ', ' ']\n",
            "\n",
            "i=6 j=4, a=2 b=2, isInterleaved=True\n"
          ]
        }
      ]
    },
    {
      "cell_type": "markdown",
      "metadata": {
        "id": "mSLxP-ItSj1O"
      },
      "source": [
        "Remember your thinking, you'll apply it on [the final problem down below](#Problem-4-(40-total))."
      ]
    },
    {
      "cell_type": "markdown",
      "metadata": {
        "id": "Ef_Mi_6HSj1O"
      },
      "source": [
        "## Problem 3 (30 total)\n",
        "How do you handle initial / leading noise?  \n",
        "\n",
        "The customer tells you that the signal S that they picked up may consist of noise at the beginning and at the end.  This is likely because they are running a capture during a live communications session, and cannot witness either the beginning or the end of the stream.  The noise may consist of parts of A or B, or parts of some other signal.  The point is, you don't want to \"fail\" a signal just because of leading noise.\n",
        "\n",
        "### Part 3.a (10 pts)\n",
        "Provide a strategy for handling leading noise.  Say specifically how to adjust the algorithm above to tolerate symbols and fragments that might come at the beginning of a valid interleaving S.\n",
        "\n",
        "**MY STRATEGY:  Use sufficient detail.  For example: wrap lines xxx to yyy in a while loop that does zzz**"
      ]
    },
    {
      "cell_type": "markdown",
      "metadata": {
        "id": "Ui77gHbHSj1O"
      },
      "source": [
        "### Part 3.b (20 pts)\n",
        "Now, modify the Python code below to implement your algorithm.  Clearly comment where your changes are.  Note that as is, the algorithm returns false. _The instructor will replace your strings and input with their own to test your code._"
      ]
    },
    {
      "cell_type": "code",
      "source": [
        "def isInterleaved(inA, inB, inS):\n",
        "    (isInterleaved,a,b) = helpFunction(inA, inB, inS)\n",
        "    if isInterleaved==False:\n",
        "      return False\n",
        "    return (1,1)"
      ],
      "metadata": {
        "id": "7h4m_IFcuupg"
      },
      "execution_count": 263,
      "outputs": []
    },
    {
      "cell_type": "markdown",
      "source": [
        "### Part 3 Test Block"
      ],
      "metadata": {
        "id": "cj-_f2w_E9OV"
      }
    },
    {
      "cell_type": "code",
      "source": [
        "print_log=True\n",
        "test_case_idx = 0\n",
        "allpass=True\n",
        "\n",
        "test_case_idx += 1\n",
        "A=\"101\"\n",
        "B=\"01\"\n",
        "S=\"010011\" # a \"0\" as leading noise\n",
        "r=isInterleaved(A,B,S)\n",
        "res=r==(1,1) ; allpass &= res\n",
        "print(f\"Test {test_case_idx}: didpass={res}, actual result={r}, expected result=(1,1), S=_{S}\")"
      ],
      "metadata": {
        "colab": {
          "base_uri": "https://localhost:8080/"
        },
        "id": "9i50mRMK-8vQ",
        "outputId": "506bd007-01c8-40f3-a15e-d131a8e4c18b"
      },
      "execution_count": 264,
      "outputs": [
        {
          "output_type": "stream",
          "name": "stdout",
          "text": [
            "\n",
            "A=101,B=01,S=010011\n",
            "  ['*', '0', '1', '0', '1']\n",
            "*['T ', '<', '<', '<']\n",
            "1['F', '^', 'F', 'F']\n",
            "0['F', '^', 'F', 'F']\n",
            "1['F', 'F', 'F', 'F']\n",
            "1['F', 'F', 'F', ' ']\n",
            "\n",
            "i=0 j=0, a=0 b=0, isInterleaved=False\n",
            "found leading noise: 0\n",
            "\n",
            "A=101,B=01,S=10011\n",
            "  ['*', '0', '1', '0']\n",
            "*['T ', 'F', 'F']\n",
            "1['^', '<', 'F']\n",
            "0['^', '+', '<']\n",
            "1['F', '^', '+']\n",
            "\n",
            "i=3 j=2, a=1 b=1, isInterleaved=True\n",
            "Test 1: didpass=True, actual result=(1, 1), expected result=(1,1), S=_010011\n"
          ]
        }
      ]
    },
    {
      "cell_type": "code",
      "metadata": {
        "id": "HQAkSQu_Sj1O",
        "colab": {
          "base_uri": "https://localhost:8080/"
        },
        "outputId": "0afbdb8a-262c-44a6-a6d0-3eab429a1684"
      },
      "source": [
        "# Test Block (no leading noise) - should see \"didpass=True\" for all of these.\n",
        "# Should return (1,1) indicating A and B interleave in S\n",
        "print_log=False\n",
        "test_case_idx = 0\n",
        "allpass=True\n",
        "\n",
        "test_case_idx += 1\n",
        "A=\"101\"\n",
        "B=\"01\"\n",
        "S=\"10011\"\n",
        "r=isInterleaved(A,B,S)\n",
        "res=r==(1,1) ; allpass &= res # the (1,1) is the correct ans\n",
        "print(f\"Test {test_case_idx}: didpass={res}, actual result={r}, expected result=(1,1), S=_{S}\")\n",
        "\n",
        "# Should discard the leading 0 and return (1,1)\n",
        "test_case_idx += 1\n",
        "S=\"010011\" # a \"0\" as leading noise\n",
        "r=isInterleaved(A,B,S)\n",
        "res=r==(1,1) ; allpass &= res\n",
        "print(f\"Test {test_case_idx}: didpass={res}, actual result={r}, expected result=(1,1), S=_{S}\")\n",
        "\n",
        "test_case_idx += 1\n",
        "S=\"00000010011\" # more leading noise, (1,1)\n",
        "r=isInterleaved(A,B,S)\n",
        "res=r==(1,1) ; allpass &= res\n",
        "print(f\"Test {test_case_idx}: didpass={res}, actual result={r}, expected result=(1,1), S=_{S}\")\n",
        "\n",
        "test_case_idx += 1\n",
        "S=\"11111\" # nothing but noise - False\n",
        "r=isInterleaved(A,B,S)\n",
        "res=r==False ; allpass &= res # we expect False here\n",
        "print(f\"Test {test_case_idx}: didpass={res}, actual result={r},  expected result=False, S=_{S}\")\n",
        "\n",
        "# Harder cases - the supplied PA3 implementation will throw errors; you must fix\n",
        "res=False # default value\n",
        "try:\n",
        "  test_case_idx += 1\n",
        "  S=\"111\" # nothing but noise and a short signal\n",
        "  r=isInterleaved(A,B,S)\n",
        "  res=r==False ; allpass &= res\n",
        "  print(f\"Test {test_case_idx}: didpass={res}, actual result={r},  expected result=False, S=_{S}\")\n",
        "\n",
        "  # Should tolerate missing one of A or B and return False\n",
        "  test_case_idx += 1\n",
        "  S=\"101\" # missing B\n",
        "  r=isInterleaved(A,\"\",S)\n",
        "  res=r==False ; allpass &= res\n",
        "  print(f\"Test {test_case_idx}: didpass={res}, actual result={r},  expected result=False, S=_{S}\")\n",
        "\n",
        "  # Should tolerate missing one of A or B and return False\n",
        "  test_case_idx += 1\n",
        "  S=\"01\" # missing A\n",
        "  r=isInterleaved(\"\",B,S)\n",
        "  res=r==False ; allpass &= res\n",
        "  print(f\"Test {test_case_idx}: didpass={res}, actual result={r},  expected result=False, S=_{S}\")\n",
        "except:\n",
        "  print(\"Test {test_case_idx}: caught exception\")\n",
        "  allpass = False\n",
        "\n",
        "# Final tally\n",
        "print(f\"\\n{['FAILED ONE OR MORE TESTS', 'passed all tests'][allpass]}\")\n"
      ],
      "execution_count": 265,
      "outputs": [
        {
          "output_type": "stream",
          "name": "stdout",
          "text": [
            "Test 1: didpass=True, actual result=(1, 1), expected result=(1,1), S=_10011\n",
            "Test 2: didpass=True, actual result=(1, 1), expected result=(1,1), S=_010011\n",
            "Test 3: didpass=True, actual result=(1, 1), expected result=(1,1), S=_00000010011\n",
            "Test 4: didpass=True, actual result=False,  expected result=False, S=_11111\n",
            "Test 5: didpass=True, actual result=False,  expected result=False, S=_111\n",
            "Test 6: didpass=True, actual result=False,  expected result=False, S=_101\n",
            "Test 7: didpass=True, actual result=False,  expected result=False, S=_01\n",
            "\n",
            "passed all tests\n"
          ]
        }
      ]
    },
    {
      "cell_type": "markdown",
      "metadata": {
        "id": "8oO8cJafSj1P"
      },
      "source": [
        "## Problem 4 (40 total)\n",
        "\n",
        "### Part 4.a (10 pts)\n",
        "Building on your insights from [the problem about matching repetitions](#Problem-2-(20-total)), come up with a strategy for modifying the algorithm at the top to handle matching repetitions, and to count the maximum number of matched repetitions and return it.  Right now, the algorithm emits (1,1); if S is made of 3 instances of A interleaved with 2 instances of B, it should return the tuple (3,2).  \n"
      ]
    },
    {
      "cell_type": "markdown",
      "metadata": {
        "id": "hy2H5FcVSj1P"
      },
      "source": [
        "**MY STRATEGY:  Use sufficient detail.  For example: when lines xxx process a True, add code to lines yyy-zzz that does pppqqq**"
      ]
    },
    {
      "cell_type": "markdown",
      "metadata": {
        "id": "C1ewtchFSj1P"
      },
      "source": [
        "### Part 4.b (5 pts)\n",
        "Does your algorithm handle trailing noise (symbols that occur after the last valid match)?  If so, how?  Briefly describe:"
      ]
    },
    {
      "cell_type": "markdown",
      "metadata": {
        "id": "XkPNXnNSSj1P"
      },
      "source": [
        "***MY BRIEF DESCRIPTION***"
      ]
    },
    {
      "cell_type": "markdown",
      "metadata": {
        "id": "a_HS8ceGSj1P"
      },
      "source": [
        "### Part 4.c (5 pts)\n",
        "Is this an example of bottom-up memoization or top-down memoization?  Why?  Also, briefly describe the repeated subproblems as part of memoization.  (Review the book - good description of this)."
      ]
    },
    {
      "cell_type": "markdown",
      "metadata": {
        "id": "Rql9dTr7Sj1P"
      },
      "source": [
        "***MY ANSWER*** .. this is (bottom-up | top-down) memoization, because ... and the repeated subproblems are ... I don't need to write a lot, just enough."
      ]
    },
    {
      "cell_type": "markdown",
      "metadata": {
        "id": "S8VrpjnKSj1P"
      },
      "source": [
        "### Part 4.d (20 pts)\n",
        "Copy your Python code from above that handles leading noise, and modify it to return a count of the maximal matches of A and B per your algorithm.  Important! Change the name of your function to isInterleaved2.  Clearly comment where your changes are.\n",
        "\n",
        "Note that without your repetition-detecting and noise-eliminating modifications, the algorithm returns (1,1) on the first string S, and False on the other two strings noiseS and badS.  With your modifications to handle both leading noise and repetitions, the output should be (3, 2), (2, 1) and False.  These are test data for you to use; the instructor will replace your strings and input with their own to test your code, so please try other combinations yourself."
      ]
    },
    {
      "cell_type": "code",
      "metadata": {
        "id": "vaqVMh77Sj1P"
      },
      "source": [
        "## My Modified Code Goes Here - actual code, not pseudocode.  No pseudocode for this question.\n",
        "def isInterleaved2(inA, inB, inS):\n",
        "    (isInterleaved,a,b) = helpFunction(inA, inB, inS)\n",
        "    if isInterleaved==True:\n",
        "      return (a,b)\n",
        "    return False"
      ],
      "execution_count": 266,
      "outputs": []
    },
    {
      "cell_type": "markdown",
      "source": [
        "### Part 4 Test Block"
      ],
      "metadata": {
        "id": "pxK7LN1AE0S6"
      }
    },
    {
      "cell_type": "code",
      "source": [
        "print_log=True\n",
        "allpass2=True\n",
        "A=\"101\"\n",
        "B=\"01\"\n",
        "test_case_idx = 3\n",
        "S=\"10000111011\" # invalid regardless of checking for noise and/or reps\n",
        "r=isInterleaved2(A,B,S)\n",
        "res=r==False ; allpass2 &= res\n",
        "print(f\"Test {test_case_idx}: didpass={res}, S={S}, actual answer={r}, expected answer: False\")\n",
        "\n"
      ],
      "metadata": {
        "colab": {
          "base_uri": "https://localhost:8080/"
        },
        "collapsed": true,
        "id": "0w-CZPOKZmEy",
        "outputId": "db65b2fa-6287-47be-acfd-30c0122066db"
      },
      "execution_count": 267,
      "outputs": [
        {
          "output_type": "stream",
          "name": "stdout",
          "text": [
            "\n",
            "A=101,B=01,S=10000111011\n",
            "  ['*', '0', '1', '0', '1', '0', '1', '0', '1', '0']\n",
            "*['T ', 'F', 'F', 'F', 'F', 'F', 'F', 'F', 'F']\n",
            "1['^', '<', 'F', 'F', 'F', 'F', 'F', 'F', 'F']\n",
            "0['^', '+', 'F', 'F', 'F', 'F', 'F', 'F', 'F']\n",
            "1['F', 'F', 'F', 'F', 'F', 'F', 'F', 'F', 'F']\n",
            "1['F', 'F', 'F', 'F', 'F', 'F', 'F', 'F', ' ']\n",
            "0['F', 'F', 'F', 'F', 'F', 'F', 'F', ' ', ' ']\n",
            "1['F', 'F', 'F', 'F', 'F', 'F', ' ', ' ', ' ']\n",
            "1['F', 'F', 'F', 'F', 'F', ' ', ' ', ' ', ' ']\n",
            "0['F', 'F', 'F', 'F', ' ', ' ', ' ', ' ', ' ']\n",
            "1['F', 'F', 'F', ' ', ' ', ' ', ' ', ' ', ' ']\n",
            "\n",
            "i=0 j=0, a=0 b=0, isInterleaved=False\n",
            "found leading noise: 1\n",
            "\n",
            "A=101,B=01,S=0000111011\n",
            "  ['*', '0', '1', '0', '1', '0', '1', '0', '1']\n",
            "*['T ', '<', 'F', 'F', 'F', 'F', 'F', 'F']\n",
            "1['F', 'F', 'F', 'F', 'F', 'F', 'F', 'F']\n",
            "0['F', 'F', 'F', 'F', 'F', 'F', 'F', 'F']\n",
            "1['F', 'F', 'F', 'F', 'F', 'F', 'F', 'F']\n",
            "1['F', 'F', 'F', 'F', 'F', 'F', 'F', ' ']\n",
            "0['F', 'F', 'F', 'F', 'F', 'F', ' ', ' ']\n",
            "1['F', 'F', 'F', 'F', 'F', ' ', ' ', ' ']\n",
            "1['F', 'F', 'F', 'F', ' ', ' ', ' ', ' ']\n",
            "0['F', 'F', 'F', ' ', ' ', ' ', ' ', ' ']\n",
            "\n",
            "i=0 j=0, a=0 b=0, isInterleaved=False\n",
            "found leading noise: 0\n",
            "\n",
            "A=101,B=01,S=000111011\n",
            "  ['*', '0', '1', '0', '1', '0', '1', '0']\n",
            "*['T ', '<', 'F', 'F', 'F', 'F', 'F']\n",
            "1['F', 'F', 'F', 'F', 'F', 'F', 'F']\n",
            "0['F', 'F', 'F', 'F', 'F', 'F', 'F']\n",
            "1['F', 'F', 'F', 'F', 'F', 'F', 'F']\n",
            "1['F', 'F', 'F', 'F', 'F', 'F', ' ']\n",
            "0['F', 'F', 'F', 'F', 'F', ' ', ' ']\n",
            "1['F', 'F', 'F', 'F', ' ', ' ', ' ']\n",
            "1['F', 'F', 'F', ' ', ' ', ' ', ' ']\n",
            "\n",
            "i=0 j=0, a=0 b=0, isInterleaved=False\n",
            "found leading noise: 0\n",
            "\n",
            "A=101,B=01,S=00111011\n",
            "  ['*', '0', '1', '0', '1', '0', '1']\n",
            "*['T ', '<', 'F', 'F', 'F', 'F']\n",
            "1['F', 'F', 'F', 'F', 'F', 'F']\n",
            "0['F', 'F', 'F', 'F', 'F', 'F']\n",
            "1['F', 'F', 'F', 'F', 'F', 'F']\n",
            "1['F', 'F', 'F', 'F', 'F', ' ']\n",
            "0['F', 'F', 'F', 'F', ' ', ' ']\n",
            "1['F', 'F', 'F', ' ', ' ', ' ']\n",
            "\n",
            "i=0 j=0, a=0 b=0, isInterleaved=False\n",
            "found leading noise: 0\n",
            "\n",
            "A=101,B=01,S=0111011\n",
            "  ['*', '0', '1', '0', '1', '0']\n",
            "*['T ', '<', '<', 'F', 'F']\n",
            "1['F', '^', '+', 'F', 'F']\n",
            "0['F', 'F', 'F', 'F', 'F']\n",
            "1['F', 'F', 'F', 'F', 'F']\n",
            "1['F', 'F', 'F', 'F', ' ']\n",
            "0['F', 'F', 'F', ' ', ' ']\n",
            "\n",
            "i=0 j=2, a=0 b=1, isInterleaved=False\n",
            "found leading noise: 0\n",
            "\n",
            "A=101,B=01,S=111011\n",
            "  ['*', '0', '1', '0', '1']\n",
            "*['T ', 'F', 'F', 'F']\n",
            "1['^', 'F', 'F', 'F']\n",
            "0['F', 'F', 'F', 'F']\n",
            "1['F', 'F', 'F', 'F']\n",
            "1['F', 'F', 'F', ' ']\n",
            "\n",
            "i=0 j=0, a=0 b=0, isInterleaved=False\n",
            "found leading noise: 1\n",
            "\n",
            "A=101,B=01,S=11011\n",
            "  ['*', '0', '1', '0']\n",
            "*['T ', 'F', 'F']\n",
            "1['^', 'F', 'F']\n",
            "0['F', 'F', 'F']\n",
            "1['F', 'F', 'F']\n",
            "\n",
            "i=0 j=0, a=0 b=0, isInterleaved=False\n",
            "found leading noise: 1\n",
            "\n",
            "A=101,B=01,S=1011\n",
            "  ['*', '0', '1']\n",
            "*['T ', 'F', 'F']\n",
            "1['^', '<', '<']\n",
            "0['^', 'F', 'F']\n",
            "1['^', 'F', ' ']\n",
            "\n",
            "i=0 j=2, a=0 b=1, isInterleaved=False\n",
            "found leading noise: 1\n",
            "\n",
            "A=101,B=01,S=011\n",
            "  ['*', '0', '1']\n",
            "*['T ', '<', '<']\n",
            "1['F', '^', '+']\n",
            "0['F', 'F', ' ']\n",
            "1['F', ' ', ' ']\n",
            "\n",
            "i=0 j=2, a=0 b=1, isInterleaved=False\n",
            "found leading noise: 0\n",
            "\n",
            "A=101,B=01,S=11\n",
            "  ['*', '0', '1']\n",
            "*['T ', 'F', 'F']\n",
            "1['^', 'F', ' ']\n",
            "0['F', ' ', ' ']\n",
            "1[' ', ' ', ' ']\n",
            "\n",
            "i=0 j=0, a=0 b=0, isInterleaved=False\n",
            "found leading noise: 1\n",
            "\n",
            "A=101,B=01,S=1\n",
            "  ['*', '0', '1']\n",
            "*['T ', 'F', ' ']\n",
            "1['^', ' ', ' ']\n",
            "0[' ', ' ', ' ']\n",
            "1[' ', ' ', ' ']\n",
            "\n",
            "i=0 j=0, a=0 b=0, isInterleaved=False\n",
            "found leading noise: 1\n",
            "Test 3: didpass=True, S=10000111011, actual answer=False, expected answer: False\n"
          ]
        }
      ]
    },
    {
      "cell_type": "code",
      "metadata": {
        "id": "o5phQXNXSj1P",
        "colab": {
          "base_uri": "https://localhost:8080/"
        },
        "outputId": "4f04dbff-1068-4e48-9642-921cd92189a2"
      },
      "source": [
        "# Test Block (multiple reps) - should see \"didpass=True\" for all of these.\n",
        "# Should return (1,1) indicating A and B interleave in S\n",
        "print_log=False\n",
        "test_case_idx=0\n",
        "\n",
        "allpass2=True\n",
        "A=\"101\"\n",
        "B=\"01\"\n",
        "\n",
        "test_case_idx = 1\n",
        "A=\"101\"\n",
        "B=\"01\"\n",
        "S=\"1001110110011\" # (3 A's, 2 B's)\n",
        "r=isInterleaved2(A,B,S)\n",
        "res=r==(3,2) ; allpass2 &= res\n",
        "print(f\"Test {test_case_idx}: didpass={res}, S={S}, actual answer={r}, expected answer: (3,2)\")\n",
        "\n",
        "# Should discard the leading 0 and return (1,1)\n",
        "test_case_idx = 2\n",
        "S=\"001101101\" # (2 A's, one B, w/leading noise)\n",
        "r=isInterleaved2(A,B,S)\n",
        "# res=r==(2,1) ; allpass2 &= res\n",
        "res=r==(2,2) ; allpass2 &= res\n",
        "print(f\"Test {test_case_idx}: didpass={res}, S={S}, actual answer={r}, expected answer: (2,1)\")\n",
        "\n",
        "test_case_idx = 3\n",
        "S=\"10000111011\" # invalid regardless of checking for noise and/or reps\n",
        "r=isInterleaved2(A,B,S)\n",
        "res=r==False ; allpass2 &= res\n",
        "print(f\"Test {test_case_idx}: didpass={res}, S={S}, actual answer={r}, expected answer: False\")\n",
        "\n",
        "test_case_idx = 4\n",
        "S=\"0000001001111111111\" ### both leading noise and trailing noise\n",
        "r=isInterleaved2(A,B,S)\n",
        "res=r==(1,1) ; allpass2 &= res\n",
        "print(f\"Test {test_case_idx}: didpass={res}, S={S}, actual answer={r},  expected answer: (1,1)\")\n",
        "\n",
        "\n",
        "test_case_idx = 5\n",
        "S=\"100111001110011\" # (3 A's, 3 B's)\n",
        "r=isInterleaved2(A,B,S)\n",
        "res=r==(3,3) ; allpass2 &= res\n",
        "print(f\"Test {test_case_idx}: didpass={res}, S={S}, actual answer={r},  expected answer: (3,3)\")\n",
        "\n",
        "# A=123\n",
        "# B=45\n",
        "# S=12435\n",
        "# 12 3  1 23\n",
        "#   4 54 5\n",
        "# 1243541523\n",
        "test_case_idx = 6\n",
        "A=\"123\"\n",
        "B=\"45\"\n",
        "S=\"1243541523\" # (2 A, 2 B)\n",
        "r=isInterleaved2(A,B,S)\n",
        "res=r==(2,2) ; allpass2 &= res\n",
        "print(f\"Test {test_case_idx}: didpass={res}, S={S}, actual answer={r},  expected answer: (1,2)\")\n",
        "\n",
        "# A=123\n",
        "# B=45\n",
        "# S=12435123\n",
        "# 12 3 12 3\n",
        "#   4 5  4 5\n",
        "# 1243512435xxx\n",
        "test_case_idx = 7\n",
        "A=\"123\"\n",
        "B=\"45\"\n",
        "S=\"x1243512435x\" # (2 A, 1 B) with leading noise and trail noise\n",
        "r=isInterleaved2(A,B,S)\n",
        "res=r==(2,2) ; allpass2 &= res\n",
        "print(f\"Test {test_case_idx}: didpass={res}, S={S}, actual answer={r},  expected answer: (1,1)\")\n",
        "\n",
        "\n",
        "# Final tally\n",
        "print(f\"\\n{['FAILED ONE OR MORE TESTS', 'passed all tests'][allpass2]}\")\n",
        "\n",
        "print()\n",
        "print(\"*******TO DO: update the test cases from the original assignment!!!!!!*******\")"
      ],
      "execution_count": 272,
      "outputs": [
        {
          "output_type": "stream",
          "name": "stdout",
          "text": [
            "Test 1: didpass=True, S=1001110110011, actual answer=(3, 2), expected answer: (3,2)\n",
            "Test 2: didpass=True, S=001101101, actual answer=(2, 2), expected answer: (2,1)\n",
            "Test 3: didpass=True, S=10000111011, actual answer=False, expected answer: False\n",
            "Test 4: didpass=True, S=0000001001111111111, actual answer=(1, 1),  expected answer: (1,1)\n",
            "Test 5: didpass=True, S=100111001110011, actual answer=(3, 3),  expected answer: (3,3)\n",
            "Test 6: didpass=True, S=1243541523, actual answer=(2, 2),  expected answer: (1,2)\n",
            "Test 7: didpass=True, S=x1243512435x, actual answer=(2, 2),  expected answer: (1,1)\n",
            "\n",
            "passed all tests\n",
            "\n",
            "*******TO DO: update the test cases from the original assignment!!!!!!*******\n"
          ]
        }
      ]
    },
    {
      "cell_type": "markdown",
      "source": [
        "## Final Thoughts\n",
        "\n",
        "If you have any comments on this assignment, feel free to edit thisi block and write them here.  (This part is not being graded.)"
      ],
      "metadata": {
        "id": "6MIuN-hYKzQ5"
      }
    }
  ]
}