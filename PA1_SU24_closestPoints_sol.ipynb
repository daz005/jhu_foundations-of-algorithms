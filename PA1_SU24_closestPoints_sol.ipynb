{
  "cells": [
    {
      "cell_type": "markdown",
      "metadata": {
        "id": "baXbq8ixZnpT"
      },
      "source": [
        "**PUT YOUR NAME HERE**, Algorithms 605.621\n",
        "\n",
        "Copyright Johns Hopkins University.  Not for distribution online or by any other means.\n",
        "\n",
        "# Statement of Academic Integrity\n",
        "\n",
        "**Statement of Integrity: I, Derek Zhu, state that I completed this assignment with integrity and by myself.**"
      ]
    },
    {
      "cell_type": "markdown",
      "metadata": {
        "id": "kn8fltFSpZqf"
      },
      "source": [
        "# Instructions to Students\n",
        "This programming assignment is contained entirely in this IPython/Jupyter notebook. You are to read the problem from this notebook, and answer questions/make required modifications in this same notebook and submit it as a notebook.  Look for **BOLDFACE AND/OR ALL CAPS** for where to put answers to written questions.  Do not delete the problem statements, text, etc, leave all that as-is (makes grading easier)."
      ]
    },
    {
      "cell_type": "markdown",
      "metadata": {
        "id": "LtQLBRzJZnpU"
      },
      "source": [
        "# Overview\n",
        "\n",
        "Implement two algorithms to return the closest pair of points in a Euclidean two-dimensional plane.  The first algorithm shall be a brute-force approach, with improvements, that runs no worse than $\\theta(n^2)$ time, and the second algorithm will be a recursive divide-and-conquer method that runs in $O(n\\log(n))$ time.  You'll kick the tires on both of these and analyze runtime performance and improvements.\n",
        "\n",
        "## Tasks\n",
        "Specifically, you must:\n",
        "\n",
        "1. Write the algorithms, in correct pseudocode notation.  [This part may have been assigned on a previous or concurrent homework assignment.]\n",
        "1. Implement both algorithms correctly, in this notebook.\n",
        "1. Compare/contrast algorithm performance via graphs.  In this one case, the performance is related to the number of calls to the distance method.\n",
        "1. Discuss your experiences and opportunities to improve.\n",
        "\n",
        "## Requirements\n",
        "On the first algorithm, you must implement a brute-force method with *at least one improvement* over a very simple method.  The baseline is \"for i in all points, for j in all points, call the distance function, yada yada\" and you shall improve on that in at least one *asymptotically similar* way by cutting down the number of calls to the distance function.  More on that in the section down below.\n",
        "\n",
        "On the second algorithm, you must implement it as the CLRS book describes in section 33.4 (and as you have fleshed out in the full realization of this algorithm; CLRS provides only a sketch).\n",
        "\n",
        "You will plot a curve that shows the improvement of the second approach over the first.\n",
        "\n",
        "## Constraints\n",
        "\n",
        "The implementation is not collaborative.  While writing the algorithm may be a collaborative effort as indicated in one of the homework assignments, you must write your own code following the Programming Assignment Guidelines (Blackboard page Syllabus & Course Information ).  Pay careful attention to the academic integrity requirements regarding publicly available code.\n",
        "\n",
        "Use the function signatures and any data structures as supplied$-$do not change function signatures or introduce strange calling conventions; the instructor's tests are written assuming these function signatures.  Further, beware of strange *side effects* that may cause bad behavior on subsequent runs of the code.  Be sure to \"restart and run all\" prior to submitting your notebook, as the instructor will do the same when testing.  Points will be deducted if the instructor has to make any changes in order to run your code.\n",
        "\n",
        "The analysis and graphs must be driven with programmatically derived data, not \"hard coded\" or pasted in run counts.  An example of what **not** to do: xvals=[3, 4, 12, 15, 36, 47] /* hard coded */  Instead, xvals = [i for i in mycounts] where mycounts is an array updated through various trials you perform using your function(s).\n",
        "\n",
        "As for notebook runtimes, the notebook must never exceed an execution time of FIVE WALL-CLOCK MINUTES.  If your notebook does not execute on a cloud service, such as Google Colaboratory, on the supplied instructor inputs within this time, points will be deducted.  It likely means there's a bug in your implementation.  If you have issues with this, reach out to your instructor."
      ]
    },
    {
      "cell_type": "markdown",
      "metadata": {
        "id": "AWWXlpzDZnpc"
      },
      "source": [
        "# Closest Pairs (100 pts total)\n",
        "\n"
      ]
    },
    {
      "cell_type": "markdown",
      "metadata": {
        "id": "2DCJXR8XsEWV"
      },
      "source": [
        "## Preliminaries\n",
        "\n",
        "Implement your algorithm in the Student Implementation block(s) and code to print your results. Your code must have a reasonable, consistent, style and commented documentation. It must have appropriate data structures and modularity.\n",
        "\n",
        "Your code must appear in this notebook (not as an external library).  You may create additional notebook cells as necessary.  If present, preserve the instructor input block, and do not change names of any of the instructor supplied variables or data structures - they will be used by the instructor when testing your code. Output must be clear and nicely formatted.\n",
        "\n",
        "Your code should be robust and have some error checking - we won't deliberately test for unusual/nonsense conditions, but our tests will include different data than supplied here so you want to be prepared for a variety of (well-formed) input conditions.  \n",
        "\n",
        "If present, the instructor test block will be used to test your code; if the test block runs correctly, then your code has the correct function signature, and performs well when running multiple trials.  (The instructor may change or add to the test cases during grading.)"
      ]
    },
    {
      "cell_type": "markdown",
      "metadata": {
        "id": "xBhwSTUr5zyq"
      },
      "source": [
        "## Instructor Data Structures and Helpers\n",
        "\n",
        "These are data structures that will be used throughout your implementation.  Although strongly cautioned against this, you can make modifications, but if present, ensure that the instructor test block functions correctly without modifications."
      ]
    },
    {
      "cell_type": "code",
      "execution_count": 105,
      "metadata": {
        "id": "1y8pHzTrZnpf"
      },
      "outputs": [],
      "source": [
        "############################################################################\n",
        "# INSTRUCTOR DATA STRUCTURES\n",
        "# If you change these, don't break the instructor test block.\n",
        "############################################################################\n",
        "# Decorator example for counting function calls, adapted from\n",
        "# https://stackoverflow.com/a/21717396/8542716\n",
        "def call_counter(f):\n",
        "    \"\"\"\n",
        "    Adds a \".calls\" variable to the function that increments w/every call.\n",
        "    Set it to zero between iterations.\n",
        "    Example:\n",
        "        @call_counter\n",
        "        def sumallbelow(x):\n",
        "          if x<1:\n",
        "            return 0\n",
        "          return x + sumallbelow(x-1)\n",
        "\n",
        "        ...\n",
        "        sumallbelow.calls = 0 # reset before any use\n",
        "        print(f\"The sum up to 4 is: {sumallbelow(4)}\")\n",
        "        print(f\"and the call counts are {sumallbelow.calls}\")\n",
        "\n",
        "    \"\"\"\n",
        "    def wrapped(*args, **kwargs): # deal with any/all arguments\n",
        "        wrapped.calls += 1\n",
        "        return f(*args, **kwargs) # call the real function here\n",
        "    wrapped.calls = 0\n",
        "    return wrapped\n",
        "\n",
        "class debugprint(object):\n",
        "  \"\"\"\n",
        "  A debug print decorator useful for tracing the flow of recursive functions.\n",
        "  It adds a \"debugprint\" method to each function call, that increases the\n",
        "  number of spaces on each call before printing the output.\n",
        "\n",
        "  To use, add @debugprint on top of your function.  Then, within your function\n",
        "  foo, put foo.debugprint(\"whatever\"), and it will print \"whatever\" with\n",
        "  several spaces in front of it.  Recursive calls add to the spaces.  Enable\n",
        "  with \"debugprint.enabled = True\", and disable w/False.\n",
        "\n",
        "  There's also a counter called \".calls,\" which you reset like the counter\n",
        "  decorator above.  Note, enabling/disabling does not affect the counter; the\n",
        "  counter is always counting.\n",
        "\n",
        "  Example:\n",
        "      @debugprint\n",
        "      def fib(N):\n",
        "        fib.debugprint(f\"inside fib({N})\")\n",
        "        if N<2:\n",
        "          fib.debugprint(f\"returning {N}\")\n",
        "          return N\n",
        "        fib.debugprint(f\"returning fib({N-1}) + fib({N-2})\")\n",
        "        return fib(N-1) + fib(N-2)\n",
        "\n",
        "      # toggle this on/off as needed\n",
        "      fib.enabled, fib.calls = True, 0\n",
        "      print(f\"The 3rd Fibonacci number is {fib(3)}\")\n",
        "      print(f\"Number of calls is {fib.calls}\")\n",
        "\n",
        "  Output:\n",
        "      inside fib(3)\n",
        "      returning fib(2) + fib(1)\n",
        "        inside fib(2)\n",
        "        returning fib(1) + fib(0)\n",
        "          inside fib(1)\n",
        "          returning 1\n",
        "          inside fib(0)\n",
        "          returning 0\n",
        "        inside fib(1)\n",
        "        returning 1\n",
        "      The 3rd Fibonacci number is 2\n",
        "      Number of calls is 5\n",
        "\n",
        "  Adapted from https://stackoverflow.com/a/862915/\n",
        "  Also adding a calls counter because I cannot combine decorators\n",
        "  \"\"\"\n",
        "  calls = 0\n",
        "  enabled = False\n",
        "  space = \"\"\n",
        "  def __init__(self, func):\n",
        "    self.func = func\n",
        "  def __call__(self, *args, **kwargs):\n",
        "    if self.enabled:\n",
        "      # print 'Entering', self.func.func_name\n",
        "      # print '    args:', args, kwargs\n",
        "      pass\n",
        "    self.space += \"  \"\n",
        "    self.calls += 1\n",
        "    result = self.func(*args, **kwargs)\n",
        "    self.space = self.space[:-2]\n",
        "    return result\n",
        "  def debugprint(self, *args, **kwargs):\n",
        "    if self.enabled:\n",
        "      print(self.space+\" \".join(map(str,args)), **kwargs)\n",
        "\n",
        "class Point(object):\n",
        "    \"\"\"\n",
        "    Data structure for points.  Methods include P.x, P.y and other Pythonisms\n",
        "    necessary to use with sets, tuples, etc.\n",
        "    \"\"\"\n",
        "    def __init__(self, x, y):\n",
        "        self.x = x\n",
        "        self.y = y\n",
        "    def __repr__(self):\n",
        "        return f\"Point({self.x},{self.y})\"\n",
        "    def __eq__(self, other): # need both eq and hash if you want to use sets\n",
        "        return self.x == other.x and self.y == other.y\n",
        "    def __hash__(self):\n",
        "        return hash((self.x, self.y))\n",
        "    def __iter__(self): # required to convert to tuple\n",
        "        for i in [self.x, self.y]:\n",
        "          yield i"
      ]
    },
    {
      "cell_type": "markdown",
      "metadata": {
        "id": "H8y5LZ9XZnpf"
      },
      "source": [
        "## Brute Force Improved (45 pts)\n",
        "Write code to print the closest pair of points, and their distance using the distance function.  Use a brute force technique, but with at least one asymptotically similar improvement that will speed up the operation.  \n",
        "\n",
        "Return the number of calls to the distance function for each input data set.  Print out the closest pair of points, and their distance, and the number of calls to the distance function.\n",
        "\n",
        "You must fix up the implementation of the distance function, which is currently incorrect.  Your brute force must call out to it, and return the counts of the number of times the distance function was called.\n",
        "\n",
        "An *asymptotically similar* speedup is one that results in fewer calls to the dist function, but does not change the overall $n^2$ running time behavior.  Think of it as a quick fix.  It may change $\\theta$ to $O$, and may change the constant $c$ in the definition $\\theta(n) = c\\cdot f(n)$, but it will not take the function to $n\\log(n)$ or anything.  That's the point of the second implementation.  We need you to try at least one quick fix speedup.\n",
        "\n",
        "There is a ``Point'' class data structure to use.  The inputs to both this and the CLRS function are Python arrays of Points.  Read the output block for the format and how to use the Points class.\n",
        "\n",
        "\n",
        "\n",
        "\n"
      ]
    },
    {
      "cell_type": "markdown",
      "metadata": {
        "id": "Cl-NJW99542N"
      },
      "source": [
        "### Brute Force Improved Implementation"
      ]
    },
    {
      "cell_type": "code",
      "execution_count": 106,
      "metadata": {
        "id": "xYEZEBwOZnpg"
      },
      "outputs": [],
      "source": [
        "############################################################################\n",
        "# STUDENT IMPLEMENTATION BLOCK - Brute Force Improved\n",
        "############################################################################\n",
        "import math\n",
        "# Student Euclidean Distance Function\n",
        "@call_counter  # adds calls attribute to functions\n",
        "def dist(p1, p2):\n",
        "    \"\"\"\n",
        "    Calculate and return the Euclidean Distance between two Points\n",
        "    p1, p2 are Points\n",
        "    \"\"\"\n",
        "\n",
        "    distance = math.sqrt((p1.x - p2.x) * (p1.x - p2.x) + (p1.y - p2.y) * (p1.y - p2.y))\n",
        "\n",
        "    return distance\n",
        "\n",
        "# Implementation of Student Closest Points algorithm\n",
        "TurnOnBruteForceImprovedImplementation=True\n",
        "def closestPairBrute(points):  # Preserve the function name and arguments\n",
        "    \"\"\"\n",
        "    This is the Brute Force Improved n^2 implementation;\n",
        "    Input: points is an array of Points, it has at least two Points;\n",
        "    Ouput: the closest 2 points, the Euclidean distance between them, and calls to the distance function.\n",
        "    \"\"\"\n",
        "\n",
        "    # initalize closest 2 points by using the first two Points in the array:\n",
        "    p1, p2 = points[0], points[1]\n",
        "    dist.calls=0\n",
        "    min_distance = dist(p1, p2)\n",
        "\n",
        "    numPoints = len(points)\n",
        "    for i in range(0, numPoints):\n",
        "        for j in range(i+1, numPoints):\n",
        "          if  (i==0 and j==1):\n",
        "            continue;\n",
        "\n",
        "          # **************** Brute Force Improved Implementation: ********************\n",
        "          # the idea is: if the x or y difference between the Points is\n",
        "          # not less than the min_distance, then the distance between the\n",
        "          # two Points must not less than the min_distance, therefore we\n",
        "          # just skip it without calling the dis() function:\n",
        "          if TurnOnBruteForceImprovedImplementation==True:\n",
        "            if (abs(points[i].x - points[j].x) >= min_distance) :\n",
        "              continue;\n",
        "            if (abs(points[i].y - points[j].y) >= min_distance) :\n",
        "              continue;\n",
        "          # ***************************************************************************\n",
        "\n",
        "          currDist = dist(points[i], points[j])\n",
        "          if min_distance > currDist:\n",
        "            p1, p2 = points[i], points[j]\n",
        "            min_distance = currDist\n",
        "\n",
        "    return p1, p2, min_distance, dist.calls\n"
      ]
    },
    {
      "cell_type": "markdown",
      "metadata": {
        "id": "2GsdcuYdZnpg"
      },
      "source": [
        "### Brute Force Improved Output"
      ]
    },
    {
      "cell_type": "code",
      "execution_count": 107,
      "metadata": {
        "id": "pYZXp1qVZnpg",
        "outputId": "00601b2a-3316-4226-f440-15fca741e6f3",
        "colab": {
          "base_uri": "https://localhost:8080/"
        }
      },
      "outputs": [
        {
          "output_type": "stream",
          "name": "stdout",
          "text": [
            "Closest pair of points are Point(9,2) and Point(8,2), distance = 1.00\n",
            "Call counts on dist = 4\n"
          ]
        }
      ],
      "source": [
        "############################################################################\n",
        "# STUDENT OUTPUT BLOCK\n",
        "############################################################################\n",
        "# This block should run your function and produce output that matches the input\n",
        "# and output.\n",
        "\n",
        "POINTS=[Point(1,2), \\\n",
        "        Point(4,3), \\\n",
        "        Point(9,8), \\\n",
        "        Point(9,2), \\\n",
        "        Point(8,2), \\\n",
        "        Point(4,5)]\n",
        "dist.calls = 0 # reset before every run\n",
        "p1, p2, d, c = closestPairBrute(POINTS)\n",
        "print(f\"Closest pair of points are {p1} and {p2}, distance = {d:.2f}\")\n",
        "print(f\"Call counts on dist = {c}\")"
      ]
    },
    {
      "cell_type": "markdown",
      "metadata": {
        "id": "wpqv5vE1xtcW"
      },
      "source": [
        "## CLRS Algorithm (15 pts)\n",
        "\n",
        "Implement the closest pair of points described in the CLRS textbook, 3rd ed, in section 33.4.  Input and output will be as with the brute force method, but your implementation will run in $n\\log(n)$ time.\n",
        "\n",
        "For this problem, you will need to create additional functions, including at least one recursive function.  The function shown below, ``closestPairCLRS``, will act as a front-end, or \"kickoff\" function to the recursive function.  The kickoff function will perform preliminary setup and organization of input data as explained in CLRS, then it will call out to a recursive function (named whatever you like) that you will write, using your own function signature, to solve the problem efficiently.  \n",
        "\n",
        "**Note on Sorting:** on this assignment and related assignments, we are **not** asking you to implement a sorting algorithm.  If you need a sorting function, use the Python built-in sort methods.  **Do not spend your time implementing MergeSort** or some other sorting algorithm.  Because we are not asking you to implement sorting, sorting is therefore not *central to the assignment.*"
      ]
    },
    {
      "cell_type": "markdown",
      "metadata": {
        "id": "pdpttGFmzjdI"
      },
      "source": [
        "### CLRS Implementation"
      ]
    },
    {
      "cell_type": "code",
      "execution_count": 108,
      "metadata": {
        "id": "kGinINFuleLj"
      },
      "outputs": [],
      "source": [
        "# STUDENT RECURSIVE FUNCTION GOES HERE\n",
        "\n",
        "def closest_split_pair(points_x_sorted, points_y_sorted, delta, best_pair):\n",
        "    \"\"\"\n",
        "    Input: points_x_sorted is an array of Points sorted in x-coordinate;\n",
        "           points_y_sorted is an array of Points sorted in y-coordinate;\n",
        "           delta is the rectanle hight,\n",
        "           best_pair is a pair of Points that have distance delta\n",
        "    Ouput: the closest 2 points, the Euclidean distance between them.\n",
        "    \"\"\"\n",
        "\n",
        "    length_x = len(points_x_sorted) // 2\n",
        "    minddle_x = points_x_sorted[length_x].x\n",
        "    sorted_y = [p for p in points_y_sorted if minddle_x - delta <= p.x <= minddle_x + delta]\n",
        "    best = delta\n",
        "    length_y = len(sorted_y)\n",
        "\n",
        "    # check the 2x1 delta rectangle to see if any points in it\n",
        "    # the rectangle can hold up 7 Points, hence we only check the\n",
        "    # next 7 Points:\n",
        "    for i in range(length_y - 1):\n",
        "        for j in range(i + 1, min(i + 7, length_y)):\n",
        "            p, q = sorted_y[i], sorted_y[j]\n",
        "            dst = dist(p, q)\n",
        "            if dst < best:\n",
        "                best_pair = p, q\n",
        "                best = dst\n",
        "\n",
        "    return best_pair, best\n",
        "\n",
        "def closest_pair_rec(points_x_sorted, points_y_sorted):\n",
        "    \"\"\"\n",
        "    Input: points_x_sorted is an array of Points sorted in x-coordinate;\n",
        "           points_y_sorted is an array of Points sorted in y-coordinate\n",
        "    Ouput: the closest 2 points, the Euclidean distance between them, and calls to the distance function.\n",
        "    \"\"\"\n",
        "\n",
        "    # the base case to stop the recursive call\n",
        "    # since the problem size is small enough\n",
        "    if len(points_x_sorted) <= 3:\n",
        "        return closestPairBrute(points_x_sorted)\n",
        "\n",
        "    # find the middle line to split all the Points\n",
        "    # into two subset in terms of x-coordinate:\n",
        "    mid = len(points_x_sorted) // 2\n",
        "    left_points_x_sorted = points_x_sorted[:mid]\n",
        "    right_points_x_sorted = points_x_sorted[mid:]\n",
        "    midpoint = points_x_sorted[mid]\n",
        "    left_points_y_sorted = [p for p in points_y_sorted if p.x <= midpoint.x]\n",
        "    right_points_y_sorted = [p for p in points_y_sorted if p.x > midpoint.x]\n",
        "\n",
        "    # find the closest pair of Points in the left sub points:\n",
        "    p1, q1, delta_left, dist_calls_1 = closest_pair_rec(left_points_x_sorted, left_points_y_sorted)\n",
        "\n",
        "    # find the closest pair of Points in the right sub points:\n",
        "    p2, q2, delta_right, dist_calls_2 = closest_pair_rec(right_points_x_sorted, right_points_y_sorted)\n",
        "\n",
        "    # compare the left pair with the right pair, chose the closest pair of Points:\n",
        "    delta = delta_left\n",
        "    pair = (p1, q1)\n",
        "    if delta_left > delta_right:\n",
        "        delta = delta_right\n",
        "        pair = (p2, q2)\n",
        "\n",
        "    # find the closest pair in the 2x1 delta rectangle:\n",
        "    (p3, q3), delta_middle = closest_split_pair(points_x_sorted, points_y_sorted, delta, pair)\n",
        "\n",
        "    # return the closest pair of Points\n",
        "    if delta <= delta_middle:\n",
        "        return pair[0], pair[1], delta, dist_calls_1 + dist_calls_2\n",
        "    else:\n",
        "        return p3, q3, delta_middle, dist_calls_1 + dist_calls_2\n",
        "\n"
      ]
    },
    {
      "cell_type": "code",
      "execution_count": 109,
      "metadata": {
        "id": "BmVjjwGqzkp5"
      },
      "outputs": [],
      "source": [
        "############################################################################\n",
        "# STUDENT IMPLEMENTATION BLOCK - CLRS\n",
        "############################################################################\n",
        "# Implementation of Student Closest Points algorithm\n",
        "def closestPairCLRS(points):  # Preserve the function name and arguments\n",
        "    \"\"\"\n",
        "    This is CLRS 𝑛log(𝑛) runtime implementation;\n",
        "    Input: points is an array of Points, it has at least two Points;\n",
        "    Ouput: the closest 2 points, the Euclidean distance between them, and calls to the distance function.\n",
        "    \"\"\"\n",
        "\n",
        "    # get the x-sorted the points:\n",
        "    points_x_sorted = sorted(points, key=lambda k: k.x)\n",
        "\n",
        "    # get the y-sorted the points:\n",
        "    points_y_sorted = sorted(points, key=lambda k: k.y)\n",
        "\n",
        "    p1, p2, distance, dist_calls = closest_pair_rec(points_x_sorted, points_y_sorted)\n",
        "\n",
        "    return p1, p2, distance, dist_calls"
      ]
    },
    {
      "cell_type": "markdown",
      "metadata": {
        "id": "HcKYyvy0zlcB"
      },
      "source": [
        "### CLRS Output"
      ]
    },
    {
      "cell_type": "code",
      "execution_count": 110,
      "metadata": {
        "id": "7COvgrHdzlzL",
        "colab": {
          "base_uri": "https://localhost:8080/"
        },
        "outputId": "c13190cf-746a-4f1c-fa51-0dce33ac1703"
      },
      "outputs": [
        {
          "output_type": "stream",
          "name": "stdout",
          "text": [
            "Closest pair of points are Point(4,3) and Point(4,4), distance = 1.00\n",
            "Call counts on dist = 5\n",
            "Compare to Brute which says Point(4,3), Point(4,4), 1.0 and 3 calls.\n"
          ]
        }
      ],
      "source": [
        "############################################################################\n",
        "# STUDENT OUTPUT BLOCK\n",
        "############################################################################\n",
        "# This block should run your function and produce output that matches the input\n",
        "# and output.\n",
        "\n",
        "POINTS=[Point(1,2), \\\n",
        "        Point(4,3), \\\n",
        "        Point(9,8), \\\n",
        "        Point(9,2), \\\n",
        "        Point(8,2), \\\n",
        "        Point(4,4)]\n",
        "dist.calls = 0 # reset before every run\n",
        "p1, p2, d, c = closestPairCLRS(POINTS)\n",
        "print(f\"Closest pair of points are {p1} and {p2}, distance = {d:.2f}\")\n",
        "print(f\"Call counts on dist = {c}\")\n",
        "dist.calls = 0\n",
        "p1, p2, d, c = closestPairBrute(POINTS)\n",
        "print(f\"Compare to Brute which says {p1}, {p2}, {d} and {c} calls.\")"
      ]
    },
    {
      "cell_type": "markdown",
      "metadata": {
        "id": "9_mSbe2RFKDV"
      },
      "source": [
        "## Instructor Test Block\n",
        "The instructor will run a test block very similar to this to evaluate the correctness of your implementation. This block is a subset of the full suite of tests.  *Your implementation must pass these supplied tests (at the minimum)*.\n",
        "\n",
        "Consider this test block a preview.  During grading, the instructor will replace the contents of the block including inputs and code (so don't put anything critical in here - it will get erased during grading), but the tests will function similarly.\n",
        "\n",
        "You are permitted to change this block, and I encourage you to add your own test cases!  Just make sure it passes the supplied cases and you'll do fine."
      ]
    },
    {
      "cell_type": "code",
      "execution_count": 111,
      "metadata": {
        "id": "ZiYfaj4bFg5-",
        "colab": {
          "base_uri": "https://localhost:8080/"
        },
        "outputId": "0745ef76-80e4-4ada-f921-291f34207d81"
      },
      "outputs": [
        {
          "output_type": "stream",
          "name": "stdout",
          "text": [
            "TESTING CASE closestPairBrute ----\n",
            "case 1  gives Point(1,1), Point(2,1) dist 1.00 in 1 calls (max = 1.00)  ... passed\n",
            "case 2  gives Point(15,19), Point(10,13) dist 7.81 in 3 calls (max = 10.00)  ... passed\n",
            "case 3  gives Point(17,4), Point(16,9) dist 5.10 in 4 calls (max = 28.00)  ... passed\n",
            "case 4  gives Point(19,1), Point(10,2) dist 9.06 in 3 calls (max = 6.00)  ... passed\n",
            "case 5  gives Point(12,8), Point(13,4) dist 4.12 in 6 calls (max = 36.00)  ... passed\n",
            "---- PASSED 5 of 5 cases\n",
            "TESTING CASE closestPairCLRS ----\n",
            "case 1  gives Point(1,1), Point(2,1) dist 1.00 in 1 calls (max = 3.00)  ... passed\n",
            "case 2  gives Point(10,13), Point(15,19) dist 7.81 in 2 calls (max = 17.41)  ... passed\n",
            "case 3  gives Point(17,4), Point(16,9) dist 5.10 in 4 calls (max = 36.00)  ... passed\n",
            "case 4  gives Point(19,1), Point(10,2) dist 9.06 in 2 calls (max = 12.00)  ... passed\n",
            "case 5  gives Point(13,4), Point(12,8) dist 4.12 in 4 calls (max = 42.79)  ... passed\n",
            "---- PASSED 5 of 5 cases\n"
          ]
        }
      ],
      "source": [
        "# INSTRUCTOR TEST BLOCK\n",
        "from math import log2\n",
        "asPoints = lambda A: [Point(a,b) for a,b in A]\n",
        "\n",
        "def myassert(case, cond):\n",
        "    if not cond:\n",
        "        print(f\"FAILED CASE, case={case}\")\n",
        "\n",
        "def myTest(func, inp, ans, cnt=0):\n",
        "  \"\"\"\n",
        "  case is array of points,\n",
        "  ans is tuple of ((p1, p2), dist),\n",
        "  cnt is max expected calls\n",
        "  \"\"\"\n",
        "  myTest.count += 1\n",
        "  if True: # try:\n",
        "      dist.calls=0\n",
        "      tup = func([p for p in asPoints(inp)]) # p1, p2, dist, calls\n",
        "      p1, p2, d, dc = tup\n",
        "      print(f\"case {myTest.count:<2d} gives {p1}, {p2} dist {d:0.2f} in {dc} calls (max = {cnt:0.2f})\", end=' ')\n",
        "  else: # except Exception as e:\n",
        "      print(\" \")\n",
        "      print(\"======== EXCEPTION ======== EXCEPTION ======== EXCEPTION\")\n",
        "      print(\"========\",e)\n",
        "  passed = True\n",
        "  apts=asPoints(ans[1:])\n",
        "  adst=ans[0]\n",
        "  a1, a2 = apts\n",
        "  passed &= set([p1,p2])==set([a1, a2])  # order not matters\n",
        "  passed &= abs(adst-d) < 0.00001\n",
        "  passed &= (not cnt or dc<=cnt)   # cnt implies we expect no more than count\n",
        "  if passed:\n",
        "    print(\" ... passed\")\n",
        "    myTest.passed += 1\n",
        "  else:\n",
        "    print(\" !!! failed !!!\")\n",
        "    print(f\"FAILED CASE {myTest.count:02d}\")\n",
        "    xtup=(d, (p1.x, p1.y), (p2.x, p2.y))\n",
        "    print(f\"   expected {adst}, {a1}, {a2}, got {xtup} and {dc} calls\")\n",
        "\n",
        "closestPairBrute.ncalls = lambda n: n*(n-1)/2  # you can just add variables to funcs\n",
        "closestPairCLRS.ncalls = lambda n: n*log2(n)*1.5\n",
        "for func in [closestPairBrute, closestPairCLRS]:\n",
        "  print(f\"TESTING CASE {func.__name__} ----\")\n",
        "  myTest.count = 0\n",
        "  myTest.passed = 0\n",
        "\n",
        "  # Tests\n",
        "  POINTS=[(1,1), (2,1)]\n",
        "  ans=(1.0, (1,1), (2,1))\n",
        "  myTest(func, POINTS, ans, func.ncalls(len(POINTS))) # last arg is max number of calls\n",
        "\n",
        "  POINTS = [(1,0), (15,19), (10,13), (1,18), (18,4)]\n",
        "  ans = (7.810249675906654, (15, 19), (10, 13))\n",
        "  myTest(func, POINTS, ans, func.ncalls(len(POINTS)))\n",
        "\n",
        "  POINTS = [(20,13), (17,4), (16,9), (0,4), (8,0), (14,20), (3,9), (4,17)]\n",
        "  ans = (5.0990195135927845, (17,4), (16,9))\n",
        "  myTest(func, POINTS, ans, func.ncalls(len(POINTS)))\n",
        "\n",
        "  POINTS= [(2, 10), (19, 1), (10, 2), (14, 18)]\n",
        "  ans=(9.055385138137417, (19, 1), (10, 2))\n",
        "  myTest(func, POINTS, ans, func.ncalls(len(POINTS)))\n",
        "\n",
        "  POINTS= [(3, 19), (4, 13), (0, 5), (18, 8), (7, 5), (12, 8), (10, 17), (19, 17), (13, 4)]\n",
        "  ans=(4.123105625617661, (12, 8), (13, 4)) # CLRS calls = 13\n",
        "  myTest(func, POINTS, ans, func.ncalls(len(POINTS)))\n",
        "\n",
        "  print(f\"---- PASSED {myTest.passed} of {myTest.count} cases\")"
      ]
    },
    {
      "cell_type": "markdown",
      "metadata": {
        "id": "QHl7XoYVZnph"
      },
      "source": [
        "## Analysis (30 pts)\n",
        "Perform tests to compare the asymptotic behavior of the Brute Force Improved method to the CLRS method.\n",
        "\n",
        "<font color='red'>Note, if you did not attempt, or were not able to get the CLRS method working reliably, plot the performance of the Brute Force Improved.</font>\n",
        "\n",
        "As with every programming assignment this semester, *running time* implies execution steps, not clock time, versus size of the input data.  Use the counts of the ``dist()`` function as collected above, and plot over various trial cases using the graph below.  (You may use this graph code for future assignments, or you can put in your own, as long as it is reasonable.)\n",
        "\n",
        "Think: what goes on the x axis?  What goes on the y axis?  How do you modify your code above to exercise the different inputs?  Label the axes, use the right data, make this look *professional.*  Also, pay attention to the asymptotic bounds.  Compare simple to improved on the same graph.\n",
        "\n",
        "***Then, write a description below the figure of what is happening.***\n",
        "\n",
        "Please note, graphs must tell a story.  The better your graph is, the more descriptive, (appropriate scale to \"zoom in\" on the required features), the better the story it tells.  Use colors, points, symbols, a good key, good labels, make this look professional.  If you are comparing two alternatives, find a way to overlay their runs on a single graph.  Really, really try to sell me graphically on your improvements.\n",
        "\n",
        "Things to consider:\n",
        "* How many points do you plot?  Notice there are too many red x's.\n",
        "* Which bounding functions do you include?  Not all of them.  Can you \"bring them in a little\" to make them tighter to your function?\n",
        "\n",
        "You may reuse this plot style on future assignments, or augment it as you wish.  Tell us a good story!  **Don't forget the writeup.**\n",
        "\n"
      ]
    },
    {
      "cell_type": "markdown",
      "metadata": {
        "id": "iE9GQTpxe_Du"
      },
      "source": [
        "### Data Collection\n",
        "Run repeated tests over input sizes N to collect data for your plot.  Then, modify the code in the Plot section to display these run counts."
      ]
    },
    {
      "cell_type": "code",
      "execution_count": 112,
      "metadata": {
        "id": "q80a5l-tfPyU",
        "colab": {
          "base_uri": "https://localhost:8080/"
        },
        "outputId": "bb6b2426-2ef1-4b50-8434-5caf4a034fdd"
      },
      "outputs": [
        {
          "output_type": "stream",
          "name": "stdout",
          "text": [
            "total_myCLRScounts= 11290 calls, total_mybrutecounts_no_improved= 1313400 calls, total_mybrutecounts_improved= 1696 calls\n"
          ]
        }
      ],
      "source": [
        "# STUDENT DATA COLLECTION CELL\n",
        "#\n",
        "# FILL THIS OUT WITH CODE TO RUN YOUR FUNCTIONS OVER MULTIPLE SIZES OF INPUTS.\n",
        "# YOU MAY REUSE CODE FROM ABOVE, INCLUDING ANY SUPPLIED INSTRUCTOR CODE, TO\n",
        "# GENERATE THE CASES.\n",
        "#\n",
        "# AS WITH ANY CODE YOU WRITE, USE GOOD COMMENTS.\n",
        "\n",
        "# WRITE EXPERIMENT CODE HERE, THEN\n",
        "# SET THIS VARIABLE BELOW TO REFLECT YOUR RUN COUNTS.\n",
        "# Then edit the plot code in the next block to make it clear, add labels, etc.\n",
        "# INCLUDE ENOUGH TRIALS.  HINT, 10 IS NOT \"ENOUGH\" FOR CLOSEST POINTS.\n",
        "# mybrutecounts = [0.8*x**1.9 for x in range(50)] # this is just a stub\n",
        "# myCLRScounts = [0.7*x**1.8 for x in range(50)] # this is just a stub\n",
        "\n",
        "# my code here:\n",
        "import random\n",
        "\n",
        "NUM_POINTS = 200\n",
        "MAX_XY = 100000000\n",
        "\n",
        "myCLRScounts = [0,]\n",
        "mybrutecounts_no_improved = [0,]\n",
        "mybrutecounts_improved = [0,]\n",
        "myDiff_CLRS_Brute= [0,]\n",
        "total_mybrutecounts_no_improved = 0\n",
        "total_mybrutecounts_improved = 0\n",
        "total_myCLRScounts = 0\n",
        "# Generate i of random points\n",
        "TEST_POINTS=[Point(random.randint(-MAX_XY, MAX_XY), random.randint(-MAX_XY, MAX_XY)) for _ in range(NUM_POINTS)]\n",
        "\n",
        "for i in range(2, NUM_POINTS):\n",
        "\n",
        "  TurnOnBruteForceImprovedImplementation=False\n",
        "  dist.calls = 0\n",
        "  p1, p2, d, c1 = closestPairBrute(TEST_POINTS[:i])\n",
        "  mybrutecounts_no_improved.append(c1)\n",
        "  total_mybrutecounts_no_improved += c1\n",
        "\n",
        "  TurnOnBruteForceImprovedImplementation=True\n",
        "  dist.calls = 0\n",
        "  p1, p2, d, c2 = closestPairBrute(TEST_POINTS[:i])\n",
        "  mybrutecounts_improved.append(c2)\n",
        "  total_mybrutecounts_improved += c2\n",
        "\n",
        "  dist.calls = 0 # reset before every run\n",
        "  p1, p2, d, c3 = closestPairCLRS(TEST_POINTS[:i])\n",
        "  myCLRScounts.append(c3)\n",
        "  total_myCLRScounts += c3\n",
        "\n",
        "  myDiff_CLRS_Brute.append(c3-c2)\n",
        "\n",
        "print(f\"total_myCLRScounts= {total_myCLRScounts} calls, total_mybrutecounts_no_improved= {total_mybrutecounts_no_improved} calls, total_mybrutecounts_improved= {total_mybrutecounts_improved} calls\")\n"
      ]
    },
    {
      "cell_type": "markdown",
      "metadata": {
        "id": "kdpHJd9YN8L5"
      },
      "source": [
        "### Plot\n",
        "Make adjustments to the code below.  Plots must tell a story; show that Brute Force approximates one well known distribution, and CLRS another."
      ]
    },
    {
      "cell_type": "code",
      "execution_count": 113,
      "metadata": {
        "id": "DXyYN7SsD0-e",
        "colab": {
          "base_uri": "https://localhost:8080/",
          "height": 955
        },
        "outputId": "cb9e1245-1215-4442-f632-3717fb38428f"
      },
      "outputs": [
        {
          "output_type": "display_data",
          "data": {
            "text/plain": [
              "<Figure size 1500x1000 with 1 Axes>"
            ],
            "image/png": "[encoded data removed]"
          },
          "metadata": {}
        }
      ],
      "source": [
        "# Code adapted from Sahil Sharma, used with permission, from Spring, 2021\n",
        "\n",
        "from math import pow\n",
        "from math import log2\n",
        "from math import factorial\n",
        "\n",
        "# REQUIRES mybrutecounts, myCLRScounts set above\n",
        "N=len(mybrutecounts_no_improved)\n",
        "\n",
        "# benchmark data set generation\n",
        "yTestVals1 = [0,] # linear for O(n)\n",
        "yTestVals2 = [0,] # inear for O(n) # not quadratic for O(n^2)\n",
        "# yTestVals3 = [0,] # n*log(n) for O(nlog(n))\n",
        "# yTestVals4 = [0,] # 5*n*log(n) for O(nlog(n))\n",
        "\n",
        "# generate bench mark data for O(n), O(n^2), O(nlog(n)), O(10*nlog(n)), and O(n!)\n",
        "for i in range(2, N+1):\n",
        "    # UPDATE THE COEFFICIENTS TO THESE FUNCTIONS TO BRING SOME IN \"TIGHT\" TO\n",
        "    # THE BRUTE FORCE, and some to the CLRS, or add others.\n",
        "    yTestVals1.append(0.45*i)\n",
        "    yTestVals2.append(0.75*i)\n",
        "    # yTestVals2.append(pow(i, 2))\n",
        "    # yTestVals3.append(i*log2(i))\n",
        "    # yTestVals4.append(5*i*log2(i))\n",
        "\n",
        "# %matplotlib inline\n",
        "import matplotlib.pyplot as plt\n",
        "\n",
        "# Brute vs. CLRS execution steps\n",
        "# plt.rcParams['figure.figsize'] = [10,10]\n",
        "plt.rcParams['figure.figsize'] = [15,10]\n",
        "fig, (ax1) = plt.subplots(1, 1)\n",
        "fig.suptitle('Runtime Analysis', size=\"xx-large\")\n",
        "\n",
        "# plotting nearest neighbor execution steps\n",
        "ax1.set_title('Improved Brute vs. CLRS', size=\"x-large\")\n",
        "ax1.plot(range(N), yTestVals1, \"r^-\", markersize=0, linewidth=1, label=\"benchmark O(0.45*n)\")\n",
        "ax1.plot(range(N), yTestVals2, \"m^-\", markersize=0, linewidth=1, label=\"benchmark O(0.75*n)\")\n",
        "ax1.plot(range(N), myCLRScounts, \"gx-\", markersize=0, linewidth=4, label=\"CLRS\")\n",
        "ax1.plot(range(N), mybrutecounts_improved, \"b^-\", markersize=0, linewidth=4, label=\"improved brute\")\n",
        "\n",
        "# ax1.plot(range(N), yTestVals1, \"m^-\", markersize=0, linewidth=1, label=\"benchmark O(n)\")\n",
        "# ax1.plot(range(N), yTestVals3, \"g^-\", markersize=0, linewidth=1, label=\"benchmark O(nlog(n))\")\n",
        "# ax1.plot(range(N), yTestVals4, \"y^-\", markersize=0, linewidth=1, label=\"benchmark O(5*nlog(n))\")\n",
        "# ax1.plot(range(N), yTestVals2, \"b^-\", markersize=0, linewidth=1, label=\"benchmark O(n^2)\")\n",
        "ax1.grid(which='major', axis='both')\n",
        "ax1.set(xlabel = 'number of points', ylabel = 'Number of times to call the dis() function')\n",
        "# ax1.legend(loc=(0.05,0.65), scatterpoints=1)\n",
        "ax1.legend(loc=(0.05,0.65), scatterpoints=10)\n",
        "ax1.tick_params(axis=\"both\", which=\"major\", labelsize=14)"
      ]
    },
    {
      "cell_type": "markdown",
      "metadata": {
        "id": "0fQkchVmN-R_"
      },
      "source": [
        "### Analysis Writeup"
      ]
    },
    {
      "cell_type": "markdown",
      "metadata": {
        "id": "KWXetIVxZnpi"
      },
      "source": [
        "***I WILL WRITE MY DESCRIPTION HERE OF WHAT IS HAPPENING REGARDING THE FIGURE ABOVE.  I WILL DISCUSS THE TIGHTEST ASYMPTOTIC NOTATION OF THE ALGORITHM.***"
      ]
    },
    {
      "cell_type": "markdown",
      "metadata": {
        "id": "UkF465owZnpj"
      },
      "source": [
        "## Retrospection (10 pts)\n",
        "Talk about how you did on this assignment.  This is just feedback to the instructor.  You can edit this cell and answer inline in non-bold.  Please go into some detail.\n",
        "* **What was the last bug you found and fixed?** my detailed discussion of a bug; this assignment might not be so bad, but there may be some tricky cases on future ones\n",
        "* **What are some late-breaking ideas you had for improving your implementation, that maybe you didn't have time to implement?** my thoughts\n",
        "* **What did you feel you learned from this assignment?** my thoughts\n",
        "* **How would you improve this assignment for future semesters?** my thoughts\n",
        "\n",
        "If there's anything else you'd like to say, feel free to write it.\n"
      ]
    },
    {
      "cell_type": "markdown",
      "metadata": {
        "id": "b1W-71sMZnpj"
      },
      "source": [
        "# Citations\n",
        "Include citations for any and all help you received."
      ]
    },
    {
      "cell_type": "markdown",
      "metadata": {
        "id": "X3n8VLjPwzwv"
      },
      "source": [
        "# Submission Reminders\n",
        "\n",
        "Submit to Blackboard per instructions found on Blackboard.  In most cases, you just upload your ipynb file.  Before you do that,\n",
        "\n",
        "\n",
        "* \"restart and run all\" before submitting.  Make sure it runs and does not throw exceptions, even if it does not pass all the test cases.  The grader \"restarts and runs all\" and expects it to run completely through.  We have graded many assignments where the student has done only a partial run, or run things out of order, leaving around old variables that give false results, only to have it throw an exception or give a different answer when the grader runs it.\n",
        "\n",
        "* Rerun your code blocks, make sure you get the same answer each time.  The instructor's test block makes repeated calls to your code, and if you've left a stray variable that doesn't get cleared, it could affect the results.  \n",
        "\n",
        "* Make sure you've completed every task in this notebook.\n",
        "\n",
        "* If there's a plot required, make sure it's legible, axes correctly labeled, and that it \"tells a story\" about what is being shown.\n",
        "\n",
        "* Double check that you have not changed the function signature.\n",
        "\n",
        "* Include a statement of academic integrity in the block at the top.  \n",
        "\n",
        "* Put your name at the top."
      ]
    }
  ],
  "metadata": {
    "colab": {
      "provenance": []
    },
    "kernelspec": {
      "display_name": "Python 3",
      "language": "python",
      "name": "python3"
    },
    "language_info": {
      "codemirror_mode": {
        "name": "ipython",
        "version": 3
      },
      "file_extension": ".py",
      "mimetype": "text/x-python",
      "name": "python",
      "nbconvert_exporter": "python",
      "pygments_lexer": "ipython3",
      "version": "3.7.6"
    }
  },
  "nbformat": 4,
  "nbformat_minor": 0
}